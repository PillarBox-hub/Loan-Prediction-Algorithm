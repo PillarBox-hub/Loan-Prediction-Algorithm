{
 "cells": [
  {
   "cell_type": "markdown",
   "metadata": {},
   "source": [
    "# LOAN PREDICTION"
   ]
  },
  {
   "cell_type": "markdown",
   "metadata": {},
   "source": [
    "Here\tare\tthe\tmain\tsteps\ti'll\tgo\tthrough:\n",
    "1.\tLook\tat\tthe\tbig\tpicture.\n",
    "2.\tGet\tthe\tdata.\n",
    "3.\tDiscover\tand\tvisualize\tthe\tdata\tto\tgain\tinsights.\n",
    "4.\tPrepare\tthe\tdata\tfor\tMachine\tLearning\talgorithms.\n",
    "5.\tSelect\ta\tmodel\tand\ttrain\tit. \n",
    "6.\tFine-tune\tyour\tmodel."
   ]
  },
  {
   "cell_type": "code",
   "execution_count": 1,
   "metadata": {},
   "outputs": [],
   "source": [
    "# import necessary packages\n",
    "import numpy as np  # for linear algebra\n",
    "import pandas as pd  # for data processing\n",
    "import os\n",
    "\n",
    "# to make this notebook's output stable across runs\n",
    "np.random.seed(42)\n",
    "\n",
    "# To plot pretty figures\n",
    "%matplotlib inline\n",
    "import matplotlib as mpl\n",
    "import matplotlib.pyplot as plt\n",
    "mpl.rc('axes', labelsize=14)\n",
    "mpl.rc('xtick', labelsize=12)\n",
    "mpl.rc('ytick', labelsize=12)\n",
    "import seaborn as sns\n",
    "\n",
    "# Ignore useless warnings\n",
    "import warnings\n",
    "warnings.filterwarnings(action=\"ignore\", message=\"^internal gelsd\")"
   ]
  },
  {
   "cell_type": "markdown",
   "metadata": {},
   "source": [
    "## Get the data"
   ]
  },
  {
   "cell_type": "code",
   "execution_count": 2,
   "metadata": {},
   "outputs": [
    {
     "data": {
      "text/html": [
       "<div>\n",
       "<style scoped>\n",
       "    .dataframe tbody tr th:only-of-type {\n",
       "        vertical-align: middle;\n",
       "    }\n",
       "\n",
       "    .dataframe tbody tr th {\n",
       "        vertical-align: top;\n",
       "    }\n",
       "\n",
       "    .dataframe thead th {\n",
       "        text-align: right;\n",
       "    }\n",
       "</style>\n",
       "<table border=\"1\" class=\"dataframe\">\n",
       "  <thead>\n",
       "    <tr style=\"text-align: right;\">\n",
       "      <th></th>\n",
       "      <th>Loan_ID</th>\n",
       "      <th>Gender</th>\n",
       "      <th>Married</th>\n",
       "      <th>Dependents</th>\n",
       "      <th>Education</th>\n",
       "      <th>Self_Employed</th>\n",
       "      <th>ApplicantIncome</th>\n",
       "      <th>CoapplicantIncome</th>\n",
       "      <th>LoanAmount</th>\n",
       "      <th>Loan_Amount_Term</th>\n",
       "      <th>Credit_History</th>\n",
       "      <th>Property_Area</th>\n",
       "      <th>Loan_Status</th>\n",
       "    </tr>\n",
       "  </thead>\n",
       "  <tbody>\n",
       "    <tr>\n",
       "      <th>0</th>\n",
       "      <td>LP001002</td>\n",
       "      <td>Male</td>\n",
       "      <td>No</td>\n",
       "      <td>0</td>\n",
       "      <td>Graduate</td>\n",
       "      <td>No</td>\n",
       "      <td>5849</td>\n",
       "      <td>0.0</td>\n",
       "      <td>NaN</td>\n",
       "      <td>360.0</td>\n",
       "      <td>1.0</td>\n",
       "      <td>Urban</td>\n",
       "      <td>Y</td>\n",
       "    </tr>\n",
       "    <tr>\n",
       "      <th>1</th>\n",
       "      <td>LP001003</td>\n",
       "      <td>Male</td>\n",
       "      <td>Yes</td>\n",
       "      <td>1</td>\n",
       "      <td>Graduate</td>\n",
       "      <td>No</td>\n",
       "      <td>4583</td>\n",
       "      <td>1508.0</td>\n",
       "      <td>128.0</td>\n",
       "      <td>360.0</td>\n",
       "      <td>1.0</td>\n",
       "      <td>Rural</td>\n",
       "      <td>N</td>\n",
       "    </tr>\n",
       "    <tr>\n",
       "      <th>2</th>\n",
       "      <td>LP001005</td>\n",
       "      <td>Male</td>\n",
       "      <td>Yes</td>\n",
       "      <td>0</td>\n",
       "      <td>Graduate</td>\n",
       "      <td>Yes</td>\n",
       "      <td>3000</td>\n",
       "      <td>0.0</td>\n",
       "      <td>66.0</td>\n",
       "      <td>360.0</td>\n",
       "      <td>1.0</td>\n",
       "      <td>Urban</td>\n",
       "      <td>Y</td>\n",
       "    </tr>\n",
       "    <tr>\n",
       "      <th>3</th>\n",
       "      <td>LP001006</td>\n",
       "      <td>Male</td>\n",
       "      <td>Yes</td>\n",
       "      <td>0</td>\n",
       "      <td>Not Graduate</td>\n",
       "      <td>No</td>\n",
       "      <td>2583</td>\n",
       "      <td>2358.0</td>\n",
       "      <td>120.0</td>\n",
       "      <td>360.0</td>\n",
       "      <td>1.0</td>\n",
       "      <td>Urban</td>\n",
       "      <td>Y</td>\n",
       "    </tr>\n",
       "    <tr>\n",
       "      <th>4</th>\n",
       "      <td>LP001008</td>\n",
       "      <td>Male</td>\n",
       "      <td>No</td>\n",
       "      <td>0</td>\n",
       "      <td>Graduate</td>\n",
       "      <td>No</td>\n",
       "      <td>6000</td>\n",
       "      <td>0.0</td>\n",
       "      <td>141.0</td>\n",
       "      <td>360.0</td>\n",
       "      <td>1.0</td>\n",
       "      <td>Urban</td>\n",
       "      <td>Y</td>\n",
       "    </tr>\n",
       "  </tbody>\n",
       "</table>\n",
       "</div>"
      ],
      "text/plain": [
       "    Loan_ID Gender Married Dependents     Education Self_Employed  \\\n",
       "0  LP001002   Male      No          0      Graduate            No   \n",
       "1  LP001003   Male     Yes          1      Graduate            No   \n",
       "2  LP001005   Male     Yes          0      Graduate           Yes   \n",
       "3  LP001006   Male     Yes          0  Not Graduate            No   \n",
       "4  LP001008   Male      No          0      Graduate            No   \n",
       "\n",
       "   ApplicantIncome  CoapplicantIncome  LoanAmount  Loan_Amount_Term  \\\n",
       "0             5849                0.0         NaN             360.0   \n",
       "1             4583             1508.0       128.0             360.0   \n",
       "2             3000                0.0        66.0             360.0   \n",
       "3             2583             2358.0       120.0             360.0   \n",
       "4             6000                0.0       141.0             360.0   \n",
       "\n",
       "   Credit_History Property_Area Loan_Status  \n",
       "0             1.0         Urban           Y  \n",
       "1             1.0         Rural           N  \n",
       "2             1.0         Urban           Y  \n",
       "3             1.0         Urban           Y  \n",
       "4             1.0         Urban           Y  "
      ]
     },
     "execution_count": 2,
     "metadata": {},
     "output_type": "execute_result"
    }
   ],
   "source": [
    "LOAN_PATH = \"data/loan_data_set.csv\"\n",
    "\n",
    "data = pd.read_csv(LOAN_PATH)\n",
    "\n",
    "data.head()"
   ]
  },
  {
   "cell_type": "code",
   "execution_count": 3,
   "metadata": {},
   "outputs": [
    {
     "name": "stdout",
     "output_type": "stream",
     "text": [
      "<class 'pandas.core.frame.DataFrame'>\n",
      "RangeIndex: 614 entries, 0 to 613\n",
      "Data columns (total 13 columns):\n",
      " #   Column             Non-Null Count  Dtype  \n",
      "---  ------             --------------  -----  \n",
      " 0   Loan_ID            614 non-null    object \n",
      " 1   Gender             601 non-null    object \n",
      " 2   Married            611 non-null    object \n",
      " 3   Dependents         599 non-null    object \n",
      " 4   Education          614 non-null    object \n",
      " 5   Self_Employed      582 non-null    object \n",
      " 6   ApplicantIncome    614 non-null    int64  \n",
      " 7   CoapplicantIncome  614 non-null    float64\n",
      " 8   LoanAmount         592 non-null    float64\n",
      " 9   Loan_Amount_Term   600 non-null    float64\n",
      " 10  Credit_History     564 non-null    float64\n",
      " 11  Property_Area      614 non-null    object \n",
      " 12  Loan_Status        614 non-null    object \n",
      "dtypes: float64(4), int64(1), object(8)\n",
      "memory usage: 62.5+ KB\n"
     ]
    }
   ],
   "source": [
    "data.info()"
   ]
  },
  {
   "cell_type": "code",
   "execution_count": 4,
   "metadata": {},
   "outputs": [
    {
     "data": {
      "text/html": [
       "<div>\n",
       "<style scoped>\n",
       "    .dataframe tbody tr th:only-of-type {\n",
       "        vertical-align: middle;\n",
       "    }\n",
       "\n",
       "    .dataframe tbody tr th {\n",
       "        vertical-align: top;\n",
       "    }\n",
       "\n",
       "    .dataframe thead th {\n",
       "        text-align: right;\n",
       "    }\n",
       "</style>\n",
       "<table border=\"1\" class=\"dataframe\">\n",
       "  <thead>\n",
       "    <tr style=\"text-align: right;\">\n",
       "      <th></th>\n",
       "      <th>ApplicantIncome</th>\n",
       "      <th>CoapplicantIncome</th>\n",
       "      <th>LoanAmount</th>\n",
       "      <th>Loan_Amount_Term</th>\n",
       "      <th>Credit_History</th>\n",
       "    </tr>\n",
       "  </thead>\n",
       "  <tbody>\n",
       "    <tr>\n",
       "      <th>count</th>\n",
       "      <td>614.000000</td>\n",
       "      <td>614.000000</td>\n",
       "      <td>592.000000</td>\n",
       "      <td>600.00000</td>\n",
       "      <td>564.000000</td>\n",
       "    </tr>\n",
       "    <tr>\n",
       "      <th>mean</th>\n",
       "      <td>5403.459283</td>\n",
       "      <td>1621.245798</td>\n",
       "      <td>146.412162</td>\n",
       "      <td>342.00000</td>\n",
       "      <td>0.842199</td>\n",
       "    </tr>\n",
       "    <tr>\n",
       "      <th>std</th>\n",
       "      <td>6109.041673</td>\n",
       "      <td>2926.248369</td>\n",
       "      <td>85.587325</td>\n",
       "      <td>65.12041</td>\n",
       "      <td>0.364878</td>\n",
       "    </tr>\n",
       "    <tr>\n",
       "      <th>min</th>\n",
       "      <td>150.000000</td>\n",
       "      <td>0.000000</td>\n",
       "      <td>9.000000</td>\n",
       "      <td>12.00000</td>\n",
       "      <td>0.000000</td>\n",
       "    </tr>\n",
       "    <tr>\n",
       "      <th>25%</th>\n",
       "      <td>2877.500000</td>\n",
       "      <td>0.000000</td>\n",
       "      <td>100.000000</td>\n",
       "      <td>360.00000</td>\n",
       "      <td>1.000000</td>\n",
       "    </tr>\n",
       "    <tr>\n",
       "      <th>50%</th>\n",
       "      <td>3812.500000</td>\n",
       "      <td>1188.500000</td>\n",
       "      <td>128.000000</td>\n",
       "      <td>360.00000</td>\n",
       "      <td>1.000000</td>\n",
       "    </tr>\n",
       "    <tr>\n",
       "      <th>75%</th>\n",
       "      <td>5795.000000</td>\n",
       "      <td>2297.250000</td>\n",
       "      <td>168.000000</td>\n",
       "      <td>360.00000</td>\n",
       "      <td>1.000000</td>\n",
       "    </tr>\n",
       "    <tr>\n",
       "      <th>max</th>\n",
       "      <td>81000.000000</td>\n",
       "      <td>41667.000000</td>\n",
       "      <td>700.000000</td>\n",
       "      <td>480.00000</td>\n",
       "      <td>1.000000</td>\n",
       "    </tr>\n",
       "  </tbody>\n",
       "</table>\n",
       "</div>"
      ],
      "text/plain": [
       "       ApplicantIncome  CoapplicantIncome  LoanAmount  Loan_Amount_Term  \\\n",
       "count       614.000000         614.000000  592.000000         600.00000   \n",
       "mean       5403.459283        1621.245798  146.412162         342.00000   \n",
       "std        6109.041673        2926.248369   85.587325          65.12041   \n",
       "min         150.000000           0.000000    9.000000          12.00000   \n",
       "25%        2877.500000           0.000000  100.000000         360.00000   \n",
       "50%        3812.500000        1188.500000  128.000000         360.00000   \n",
       "75%        5795.000000        2297.250000  168.000000         360.00000   \n",
       "max       81000.000000       41667.000000  700.000000         480.00000   \n",
       "\n",
       "       Credit_History  \n",
       "count      564.000000  \n",
       "mean         0.842199  \n",
       "std          0.364878  \n",
       "min          0.000000  \n",
       "25%          1.000000  \n",
       "50%          1.000000  \n",
       "75%          1.000000  \n",
       "max          1.000000  "
      ]
     },
     "execution_count": 4,
     "metadata": {},
     "output_type": "execute_result"
    }
   ],
   "source": [
    "data.describe()"
   ]
  },
  {
   "cell_type": "code",
   "execution_count": 5,
   "metadata": {},
   "outputs": [
    {
     "data": {
      "text/plain": [
       "Loan_ID              614\n",
       "Gender                 2\n",
       "Married                2\n",
       "Dependents             4\n",
       "Education              2\n",
       "Self_Employed          2\n",
       "ApplicantIncome      505\n",
       "CoapplicantIncome    287\n",
       "LoanAmount           203\n",
       "Loan_Amount_Term      10\n",
       "Credit_History         2\n",
       "Property_Area          3\n",
       "Loan_Status            2\n",
       "dtype: int64"
      ]
     },
     "execution_count": 5,
     "metadata": {},
     "output_type": "execute_result"
    }
   ],
   "source": [
    "data.nunique()"
   ]
  },
  {
   "cell_type": "code",
   "execution_count": 6,
   "metadata": {},
   "outputs": [
    {
     "name": "stderr",
     "output_type": "stream",
     "text": [
      "C:\\Users\\Administrator\\anaconda3\\lib\\site-packages\\pandas\\plotting\\_matplotlib\\tools.py:298: MatplotlibDeprecationWarning: \n",
      "The rowNum attribute was deprecated in Matplotlib 3.2 and will be removed two minor releases later. Use ax.get_subplotspec().rowspan.start instead.\n",
      "  layout[ax.rowNum, ax.colNum] = ax.get_visible()\n",
      "C:\\Users\\Administrator\\anaconda3\\lib\\site-packages\\pandas\\plotting\\_matplotlib\\tools.py:298: MatplotlibDeprecationWarning: \n",
      "The colNum attribute was deprecated in Matplotlib 3.2 and will be removed two minor releases later. Use ax.get_subplotspec().colspan.start instead.\n",
      "  layout[ax.rowNum, ax.colNum] = ax.get_visible()\n",
      "C:\\Users\\Administrator\\anaconda3\\lib\\site-packages\\pandas\\plotting\\_matplotlib\\tools.py:304: MatplotlibDeprecationWarning: \n",
      "The rowNum attribute was deprecated in Matplotlib 3.2 and will be removed two minor releases later. Use ax.get_subplotspec().rowspan.start instead.\n",
      "  if not layout[ax.rowNum + 1, ax.colNum]:\n",
      "C:\\Users\\Administrator\\anaconda3\\lib\\site-packages\\pandas\\plotting\\_matplotlib\\tools.py:304: MatplotlibDeprecationWarning: \n",
      "The colNum attribute was deprecated in Matplotlib 3.2 and will be removed two minor releases later. Use ax.get_subplotspec().colspan.start instead.\n",
      "  if not layout[ax.rowNum + 1, ax.colNum]:\n"
     ]
    },
    {
     "data": {
      "image/png": "[encoded data removed]",
      "text/plain": [
       "<Figure size 1440x1080 with 6 Axes>"
      ]
     },
     "metadata": {
      "needs_background": "light"
     },
     "output_type": "display_data"
    }
   ],
   "source": [
    "# take a whole look at the numerical data\n",
    "data.hist(bins=50, figsize=(20,15))\n",
    "plt.show()"
   ]
  },
  {
   "cell_type": "code",
   "execution_count": 7,
   "metadata": {},
   "outputs": [
    {
     "data": {
      "text/html": [
       "<div>\n",
       "<style scoped>\n",
       "    .dataframe tbody tr th:only-of-type {\n",
       "        vertical-align: middle;\n",
       "    }\n",
       "\n",
       "    .dataframe tbody tr th {\n",
       "        vertical-align: top;\n",
       "    }\n",
       "\n",
       "    .dataframe thead th {\n",
       "        text-align: right;\n",
       "    }\n",
       "</style>\n",
       "<table border=\"1\" class=\"dataframe\">\n",
       "  <thead>\n",
       "    <tr style=\"text-align: right;\">\n",
       "      <th></th>\n",
       "      <th>Loan_ID</th>\n",
       "      <th>Gender</th>\n",
       "      <th>Married</th>\n",
       "      <th>Dependents</th>\n",
       "      <th>Education</th>\n",
       "      <th>Self_Employed</th>\n",
       "      <th>Property_Area</th>\n",
       "      <th>Loan_Status</th>\n",
       "    </tr>\n",
       "  </thead>\n",
       "  <tbody>\n",
       "    <tr>\n",
       "      <th>count</th>\n",
       "      <td>614</td>\n",
       "      <td>601</td>\n",
       "      <td>611</td>\n",
       "      <td>599</td>\n",
       "      <td>614</td>\n",
       "      <td>582</td>\n",
       "      <td>614</td>\n",
       "      <td>614</td>\n",
       "    </tr>\n",
       "    <tr>\n",
       "      <th>unique</th>\n",
       "      <td>614</td>\n",
       "      <td>2</td>\n",
       "      <td>2</td>\n",
       "      <td>4</td>\n",
       "      <td>2</td>\n",
       "      <td>2</td>\n",
       "      <td>3</td>\n",
       "      <td>2</td>\n",
       "    </tr>\n",
       "    <tr>\n",
       "      <th>top</th>\n",
       "      <td>LP002892</td>\n",
       "      <td>Male</td>\n",
       "      <td>Yes</td>\n",
       "      <td>0</td>\n",
       "      <td>Graduate</td>\n",
       "      <td>No</td>\n",
       "      <td>Semiurban</td>\n",
       "      <td>Y</td>\n",
       "    </tr>\n",
       "    <tr>\n",
       "      <th>freq</th>\n",
       "      <td>1</td>\n",
       "      <td>489</td>\n",
       "      <td>398</td>\n",
       "      <td>345</td>\n",
       "      <td>480</td>\n",
       "      <td>500</td>\n",
       "      <td>233</td>\n",
       "      <td>422</td>\n",
       "    </tr>\n",
       "  </tbody>\n",
       "</table>\n",
       "</div>"
      ],
      "text/plain": [
       "         Loan_ID Gender Married Dependents Education Self_Employed  \\\n",
       "count        614    601     611        599       614           582   \n",
       "unique       614      2       2          4         2             2   \n",
       "top     LP002892   Male     Yes          0  Graduate            No   \n",
       "freq           1    489     398        345       480           500   \n",
       "\n",
       "       Property_Area Loan_Status  \n",
       "count            614         614  \n",
       "unique             3           2  \n",
       "top        Semiurban           Y  \n",
       "freq             233         422  "
      ]
     },
     "execution_count": 7,
     "metadata": {},
     "output_type": "execute_result"
    }
   ],
   "source": [
    "# describe the categorical data (\"object\")\n",
    "data.describe(include='O')"
   ]
  },
  {
   "cell_type": "code",
   "execution_count": 8,
   "metadata": {},
   "outputs": [],
   "source": [
    "# i'll drop Loan_ID, because it'll make mislead the model\n",
    "\n",
    "data.drop('Loan_ID', axis=1, inplace=True)"
   ]
  },
  {
   "cell_type": "code",
   "execution_count": 9,
   "metadata": {},
   "outputs": [
    {
     "data": {
      "text/plain": [
       "False"
      ]
     },
     "execution_count": 9,
     "metadata": {},
     "output_type": "execute_result"
    }
   ],
   "source": [
    "# check if we got any duplicated rows\n",
    "data.duplicated().any()"
   ]
  },
  {
   "cell_type": "code",
   "execution_count": 10,
   "metadata": {},
   "outputs": [
    {
     "name": "stdout",
     "output_type": "stream",
     "text": [
      "Percentage of Y: 0.69\n",
      "Percentage of N: 0.31\n"
     ]
    },
    {
     "data": {
      "image/png": "[encoded data removed]",
      "text/plain": [
       "<Figure size 576x432 with 1 Axes>"
      ]
     },
     "metadata": {
      "needs_background": "light"
     },
     "output_type": "display_data"
    }
   ],
   "source": [
    "# looking at the target percentage\n",
    "\n",
    "plt.figure(figsize=(8, 6))\n",
    "sns.countplot(data['Loan_Status'])\n",
    "\n",
    "print('Percentage of Y: %.2f'% (data['Loan_Status'].value_counts()[0] / len(data)))\n",
    "print(\"Percentage of N: %.2f\"% (data['Loan_Status'].value_counts()[1] / len(data)))"
   ]
  },
  {
   "cell_type": "markdown",
   "metadata": {},
   "source": [
    "This should tell you the possibility for a client to get a loan is high."
   ]
  },
  {
   "cell_type": "code",
   "execution_count": null,
   "metadata": {},
   "outputs": [],
   "source": []
  },
  {
   "cell_type": "markdown",
   "metadata": {},
   "source": [
    "## Let's look deeper in the data"
   ]
  },
  {
   "cell_type": "code",
   "execution_count": 11,
   "metadata": {},
   "outputs": [
    {
     "data": {
      "text/plain": [
       "Index(['Gender', 'Married', 'Dependents', 'Education', 'Self_Employed',\n",
       "       'ApplicantIncome', 'CoapplicantIncome', 'LoanAmount',\n",
       "       'Loan_Amount_Term', 'Credit_History', 'Property_Area', 'Loan_Status'],\n",
       "      dtype='object')"
      ]
     },
     "execution_count": 11,
     "metadata": {},
     "output_type": "execute_result"
    }
   ],
   "source": [
    "data.columns"
   ]
  },
  {
   "cell_type": "markdown",
   "metadata": {},
   "source": [
    "We can see LoanAmount correlates well with COapplicantIncome and ApplicantIncome"
   ]
  },
  {
   "cell_type": "code",
   "execution_count": 12,
   "metadata": {},
   "outputs": [
    {
     "data": {
      "image/png": "[encoded data removed]",
      "text/plain": [
       "<Figure size 864x864 with 2 Axes>"
      ]
     },
     "metadata": {
      "needs_background": "light"
     },
     "output_type": "display_data"
    }
   ],
   "source": [
    "plt.figure(figsize=(12, 12))\n",
    "sns.heatmap(data.iloc[:, 2:].corr(), annot=True, square=True, cmap='BuPu')\n",
    "plt.show()"
   ]
  },
  {
   "cell_type": "markdown",
   "metadata": {},
   "source": [
    "let's understand the distribution of the Loan_Amount and Applicant_Amount as the categorical variables."
   ]
  },
  {
   "cell_type": "markdown",
   "metadata": {},
   "source": [
    "looking at the loan status and the client's all credit history, we didn't give a loan for most people who had Credit History = 0\n",
    "but we did give a loan for most of people who haad Credit History = 1.\n",
    "so we can say, if you got Credit History = 1 , you will have better chance of getting a loan.\n",
    "\n",
    "Hence, this is an important feature."
   ]
  },
  {
   "cell_type": "code",
   "execution_count": 13,
   "metadata": {},
   "outputs": [
    {
     "data": {
      "text/plain": [
       "<matplotlib.axes._subplots.AxesSubplot at 0x192c9455bc8>"
      ]
     },
     "execution_count": 13,
     "metadata": {},
     "output_type": "execute_result"
    },
    {
     "data": {
      "text/plain": [
       "<Figure size 1080x360 with 0 Axes>"
      ]
     },
     "metadata": {},
     "output_type": "display_data"
    },
    {
     "data": {
      "image/png": "[encoded data removed]",
      "text/plain": [
       "<Figure size 432x288 with 1 Axes>"
      ]
     },
     "metadata": {
      "needs_background": "light"
     },
     "output_type": "display_data"
    }
   ],
   "source": [
    "plt.figure(figsize=(15, 5))\n",
    "t = pd.crosstab(data['Credit_History'], data['Loan_Status'])\n",
    "t.plot(kind='bar', stacked=True, color=['green','red'], grid=False)"
   ]
  },
  {
   "cell_type": "markdown",
   "metadata": {},
   "source": [
    "For the Gender, most males got loan and most females got one too\n",
    "it tells theres no pattern and\n",
    "i think it's not an important feature for the model\n"
   ]
  },
  {
   "cell_type": "code",
   "execution_count": 14,
   "metadata": {},
   "outputs": [
    {
     "data": {
      "text/plain": [
       "<matplotlib.axes._subplots.AxesSubplot at 0x192c90659c8>"
      ]
     },
     "execution_count": 14,
     "metadata": {},
     "output_type": "execute_result"
    },
    {
     "data": {
      "text/plain": [
       "<Figure size 1080x360 with 0 Axes>"
      ]
     },
     "metadata": {},
     "output_type": "display_data"
    },
    {
     "data": {
      "image/png": "[encoded data removed]",
      "text/plain": [
       "<Figure size 432x288 with 1 Axes>"
      ]
     },
     "metadata": {
      "needs_background": "light"
     },
     "output_type": "display_data"
    }
   ],
   "source": [
    "plt.figure(figsize=(15, 5))\n",
    "t = pd.crosstab(data['Loan_Status'], data['Gender'])\n",
    "t.plot(kind='bar', stacked=True, color=['green','red'], grid=False)"
   ]
  },
  {
   "cell_type": "markdown",
   "metadata": {},
   "source": [
    "for the married,  most people who got married got a loan\n",
    "if you're married then you have better chance to get a loan.\n",
    "\n",
    "hence, it's a good feature"
   ]
  },
  {
   "cell_type": "code",
   "execution_count": 15,
   "metadata": {},
   "outputs": [
    {
     "data": {
      "text/plain": [
       "<matplotlib.axes._subplots.AxesSubplot at 0x192c9032388>"
      ]
     },
     "execution_count": 15,
     "metadata": {},
     "output_type": "execute_result"
    },
    {
     "data": {
      "text/plain": [
       "<Figure size 1080x360 with 0 Axes>"
      ]
     },
     "metadata": {},
     "output_type": "display_data"
    },
    {
     "data": {
      "image/png": "[encoded data removed]",
      "text/plain": [
       "<Figure size 432x288 with 1 Axes>"
      ]
     },
     "metadata": {
      "needs_background": "light"
     },
     "output_type": "display_data"
    }
   ],
   "source": [
    "plt.figure(figsize=(15, 5))\n",
    "t = pd.crosstab(data['Loan_Status'], data['Married'])\n",
    "t.plot(kind='bar', stacked=True, color=['green','red'], grid=False)"
   ]
  },
  {
   "cell_type": "markdown",
   "metadata": {},
   "source": [
    "Dependents, first if Dependents = 0 , there's a higher chance to \n",
    "get a loan\n",
    "hence, it's a good feature"
   ]
  },
  {
   "cell_type": "code",
   "execution_count": 16,
   "metadata": {},
   "outputs": [
    {
     "data": {
      "text/plain": [
       "<matplotlib.axes._subplots.AxesSubplot at 0x192c971d4c8>"
      ]
     },
     "execution_count": 16,
     "metadata": {},
     "output_type": "execute_result"
    },
    {
     "data": {
      "image/png": "[encoded data removed]",
      "text/plain": [
       "<Figure size 1080x360 with 1 Axes>"
      ]
     },
     "metadata": {
      "needs_background": "light"
     },
     "output_type": "display_data"
    }
   ],
   "source": [
    "plt.figure(figsize=(15,5))\n",
    "sns.countplot(x='Dependents', hue='Loan_Status', data=data)"
   ]
  },
  {
   "cell_type": "markdown",
   "metadata": {},
   "source": [
    "for the Education, if you graduate or not you'll get a loan\n",
    "Hence, no pattern"
   ]
  },
  {
   "cell_type": "code",
   "execution_count": 17,
   "metadata": {},
   "outputs": [
    {
     "data": {
      "text/plain": [
       "<matplotlib.axes._subplots.AxesSubplot at 0x192c96a1e48>"
      ]
     },
     "execution_count": 17,
     "metadata": {},
     "output_type": "execute_result"
    },
    {
     "data": {
      "text/plain": [
       "<Figure size 1080x360 with 0 Axes>"
      ]
     },
     "metadata": {},
     "output_type": "display_data"
    },
    {
     "data": {
      "image/png": "[encoded data removed]",
      "text/plain": [
       "<Figure size 432x288 with 1 Axes>"
      ]
     },
     "metadata": {
      "needs_background": "light"
     },
     "output_type": "display_data"
    }
   ],
   "source": [
    "plt.figure(figsize=(15, 5))\n",
    "t = pd.crosstab(data['Loan_Status'], data['Education'])\n",
    "t.plot(kind='bar', stacked=True, color=['green','red'], grid=False)"
   ]
  },
  {
   "cell_type": "markdown",
   "metadata": {},
   "source": [
    "Self_Employed, same as Education\n",
    "no pattern"
   ]
  },
  {
   "cell_type": "code",
   "execution_count": 18,
   "metadata": {},
   "outputs": [
    {
     "data": {
      "text/plain": [
       "<matplotlib.axes._subplots.AxesSubplot at 0x192c8ce0808>"
      ]
     },
     "execution_count": 18,
     "metadata": {},
     "output_type": "execute_result"
    },
    {
     "data": {
      "text/plain": [
       "<Figure size 1080x360 with 0 Axes>"
      ]
     },
     "metadata": {},
     "output_type": "display_data"
    },
    {
     "data": {
      "image/png": "[encoded data removed]",
      "text/plain": [
       "<Figure size 432x288 with 1 Axes>"
      ]
     },
     "metadata": {
      "needs_background": "light"
     },
     "output_type": "display_data"
    }
   ],
   "source": [
    "plt.figure(figsize=(15, 5))\n",
    "t = pd.crosstab(data['Loan_Status'], data['Self_Employed'])\n",
    "t.plot(kind='bar', stacked=True, color=['green','red'], grid=False)"
   ]
  },
  {
   "cell_type": "markdown",
   "metadata": {},
   "source": [
    "Property_Area, where you live as serves as a mean of getting a loan\n",
    "as we can see, Semiurban Property_Area got more than 50% chance to get a loan.\n",
    "\n",
    "hence, its a good feature"
   ]
  },
  {
   "cell_type": "code",
   "execution_count": 19,
   "metadata": {},
   "outputs": [
    {
     "data": {
      "text/plain": [
       "<matplotlib.axes._subplots.AxesSubplot at 0x192c8fbf9c8>"
      ]
     },
     "execution_count": 19,
     "metadata": {},
     "output_type": "execute_result"
    },
    {
     "data": {
      "image/png": "[encoded data removed]",
      "text/plain": [
       "<Figure size 1080x360 with 1 Axes>"
      ]
     },
     "metadata": {
      "needs_background": "light"
     },
     "output_type": "display_data"
    }
   ],
   "source": [
    "plt.figure(figsize=(15,5))\n",
    "sns.countplot(x='Property_Area', hue='Loan_Status', data=data)"
   ]
  },
  {
   "cell_type": "markdown",
   "metadata": {},
   "source": [
    "Appilcant Income, serves no pattern"
   ]
  },
  {
   "cell_type": "code",
   "execution_count": 20,
   "metadata": {},
   "outputs": [
    {
     "data": {
      "text/plain": [
       "<matplotlib.collections.PathCollection at 0x192c8e9e648>"
      ]
     },
     "execution_count": 20,
     "metadata": {},
     "output_type": "execute_result"
    },
    {
     "data": {
      "image/png": "[encoded data removed]",
      "text/plain": [
       "<Figure size 432x288 with 1 Axes>"
      ]
     },
     "metadata": {
      "needs_background": "light"
     },
     "output_type": "display_data"
    }
   ],
   "source": [
    "plt.scatter(data['ApplicantIncome'], data['Loan_Status'])"
   ]
  },
  {
   "cell_type": "code",
   "execution_count": 21,
   "metadata": {},
   "outputs": [],
   "source": [
    "# Coapplicant Income, serves no pattern"
   ]
  },
  {
   "cell_type": "code",
   "execution_count": 22,
   "metadata": {},
   "outputs": [
    {
     "data": {
      "text/plain": [
       "<matplotlib.collections.PathCollection at 0x192c91125c8>"
      ]
     },
     "execution_count": 22,
     "metadata": {},
     "output_type": "execute_result"
    },
    {
     "data": {
      "image/png": "[encoded data removed]",
      "text/plain": [
       "<Figure size 432x288 with 1 Axes>"
      ]
     },
     "metadata": {
      "needs_background": "light"
     },
     "output_type": "display_data"
    }
   ],
   "source": [
    "plt.scatter(data['CoapplicantIncome'], data['Loan_Status'])\n"
   ]
  },
  {
   "cell_type": "markdown",
   "metadata": {},
   "source": [
    "Applicant Income and CO Applicant Income have outliers\n",
    "\n",
    "so they are no good feature\n"
   ]
  },
  {
   "cell_type": "code",
   "execution_count": 23,
   "metadata": {},
   "outputs": [
    {
     "data": {
      "text/plain": [
       "<matplotlib.axes._subplots.AxesSubplot at 0x192c8fecd88>"
      ]
     },
     "execution_count": 23,
     "metadata": {},
     "output_type": "execute_result"
    },
    {
     "data": {
      "image/png": "[encoded data removed]",
      "text/plain": [
       "<Figure size 720x720 with 1 Axes>"
      ]
     },
     "metadata": {
      "needs_background": "light"
     },
     "output_type": "display_data"
    }
   ],
   "source": [
    "plt.figure(figsize=(10,10))\n",
    "sns.boxplot(data=data, palette=\"Set2\")"
   ]
  },
  {
   "cell_type": "code",
   "execution_count": 24,
   "metadata": {},
   "outputs": [],
   "source": [
    "corr_matrix = data.corr()"
   ]
  },
  {
   "cell_type": "markdown",
   "metadata": {},
   "source": [
    "Now\tlet’s\tlook\tat\thow\tmuch\teach\tattribute\tcorrelates\twith LoanAmount"
   ]
  },
  {
   "cell_type": "code",
   "execution_count": 25,
   "metadata": {},
   "outputs": [
    {
     "data": {
      "text/plain": [
       "LoanAmount           1.000000\n",
       "ApplicantIncome      0.570909\n",
       "CoapplicantIncome    0.188619\n",
       "Loan_Amount_Term     0.039447\n",
       "Credit_History      -0.008433\n",
       "Name: LoanAmount, dtype: float64"
      ]
     },
     "execution_count": 25,
     "metadata": {},
     "output_type": "execute_result"
    }
   ],
   "source": [
    "corr_matrix['LoanAmount'].sort_values(ascending=False)"
   ]
  },
  {
   "cell_type": "markdown",
   "metadata": {},
   "source": [
    "As we've seen already, LoanAmount correlates better with ApplicantIncome and CoapplicantIncome"
   ]
  },
  {
   "cell_type": "code",
   "execution_count": 26,
   "metadata": {},
   "outputs": [
    {
     "name": "stderr",
     "output_type": "stream",
     "text": [
      "C:\\Users\\Administrator\\anaconda3\\lib\\site-packages\\pandas\\plotting\\_matplotlib\\tools.py:298: MatplotlibDeprecationWarning: \n",
      "The rowNum attribute was deprecated in Matplotlib 3.2 and will be removed two minor releases later. Use ax.get_subplotspec().rowspan.start instead.\n",
      "  layout[ax.rowNum, ax.colNum] = ax.get_visible()\n",
      "C:\\Users\\Administrator\\anaconda3\\lib\\site-packages\\pandas\\plotting\\_matplotlib\\tools.py:298: MatplotlibDeprecationWarning: \n",
      "The colNum attribute was deprecated in Matplotlib 3.2 and will be removed two minor releases later. Use ax.get_subplotspec().colspan.start instead.\n",
      "  layout[ax.rowNum, ax.colNum] = ax.get_visible()\n",
      "C:\\Users\\Administrator\\anaconda3\\lib\\site-packages\\pandas\\plotting\\_matplotlib\\tools.py:304: MatplotlibDeprecationWarning: \n",
      "The rowNum attribute was deprecated in Matplotlib 3.2 and will be removed two minor releases later. Use ax.get_subplotspec().rowspan.start instead.\n",
      "  if not layout[ax.rowNum + 1, ax.colNum]:\n",
      "C:\\Users\\Administrator\\anaconda3\\lib\\site-packages\\pandas\\plotting\\_matplotlib\\tools.py:304: MatplotlibDeprecationWarning: \n",
      "The colNum attribute was deprecated in Matplotlib 3.2 and will be removed two minor releases later. Use ax.get_subplotspec().colspan.start instead.\n",
      "  if not layout[ax.rowNum + 1, ax.colNum]:\n"
     ]
    },
    {
     "data": {
      "image/png": "[encoded data removed]",
      "text/plain": [
       "<Figure size 864x576 with 16 Axes>"
      ]
     },
     "metadata": {
      "needs_background": "light"
     },
     "output_type": "display_data"
    }
   ],
   "source": [
    "from pandas.plotting import scatter_matrix\n",
    "\n",
    "attributes = ['LoanAmount', \"ApplicantIncome\", \"CoapplicantIncome\",\n",
    "              \"Loan_Amount_Term\"]\n",
    "scatter_matrix(data[attributes], figsize=(12, 8))\n",
    "plt.show()"
   ]
  },
  {
   "cell_type": "code",
   "execution_count": null,
   "metadata": {},
   "outputs": [],
   "source": []
  },
  {
   "cell_type": "markdown",
   "metadata": {},
   "source": [
    "## Prepare the data for Machine Learning algorithms¶\n"
   ]
  },
  {
   "cell_type": "code",
   "execution_count": 27,
   "metadata": {},
   "outputs": [],
   "source": [
    "new_data = data.copy()"
   ]
  },
  {
   "cell_type": "markdown",
   "metadata": {},
   "source": [
    "Finding missing values"
   ]
  },
  {
   "cell_type": "code",
   "execution_count": 28,
   "metadata": {},
   "outputs": [
    {
     "data": {
      "text/plain": [
       "Credit_History       50\n",
       "Self_Employed        32\n",
       "LoanAmount           22\n",
       "Dependents           15\n",
       "Loan_Amount_Term     14\n",
       "Gender               13\n",
       "Married               3\n",
       "Loan_Status           0\n",
       "Property_Area         0\n",
       "CoapplicantIncome     0\n",
       "ApplicantIncome       0\n",
       "Education             0\n",
       "dtype: int64"
      ]
     },
     "execution_count": 28,
     "metadata": {},
     "output_type": "execute_result"
    }
   ],
   "source": [
    "new_data.isnull().sum().sort_values(ascending=False)"
   ]
  },
  {
   "cell_type": "code",
   "execution_count": 29,
   "metadata": {},
   "outputs": [],
   "source": [
    "# separating the numerical columns from the categorical\n",
    "\n",
    "cat_data = []\n",
    "num_data = []\n",
    "\n",
    "for i, c in enumerate(new_data.dtypes):\n",
    "    if c == object:\n",
    "        cat_data.append(data.iloc[:, i]) # add the whole row at this index\n",
    "    else:\n",
    "        num_data.append(data.iloc[:, i])"
   ]
  },
  {
   "cell_type": "code",
   "execution_count": 30,
   "metadata": {},
   "outputs": [],
   "source": [
    "# the data is flatten in the list, transpose it and add to data frame\n",
    "\n",
    "cat_data = pd.DataFrame(cat_data).transpose()\n",
    "num_data = pd.DataFrame(num_data).transpose()"
   ]
  },
  {
   "cell_type": "code",
   "execution_count": 31,
   "metadata": {},
   "outputs": [
    {
     "data": {
      "text/html": [
       "<div>\n",
       "<style scoped>\n",
       "    .dataframe tbody tr th:only-of-type {\n",
       "        vertical-align: middle;\n",
       "    }\n",
       "\n",
       "    .dataframe tbody tr th {\n",
       "        vertical-align: top;\n",
       "    }\n",
       "\n",
       "    .dataframe thead th {\n",
       "        text-align: right;\n",
       "    }\n",
       "</style>\n",
       "<table border=\"1\" class=\"dataframe\">\n",
       "  <thead>\n",
       "    <tr style=\"text-align: right;\">\n",
       "      <th></th>\n",
       "      <th>Gender</th>\n",
       "      <th>Married</th>\n",
       "      <th>Dependents</th>\n",
       "      <th>Education</th>\n",
       "      <th>Self_Employed</th>\n",
       "      <th>Property_Area</th>\n",
       "      <th>Loan_Status</th>\n",
       "    </tr>\n",
       "  </thead>\n",
       "  <tbody>\n",
       "    <tr>\n",
       "      <th>0</th>\n",
       "      <td>Male</td>\n",
       "      <td>No</td>\n",
       "      <td>0</td>\n",
       "      <td>Graduate</td>\n",
       "      <td>No</td>\n",
       "      <td>Urban</td>\n",
       "      <td>Y</td>\n",
       "    </tr>\n",
       "    <tr>\n",
       "      <th>1</th>\n",
       "      <td>Male</td>\n",
       "      <td>Yes</td>\n",
       "      <td>1</td>\n",
       "      <td>Graduate</td>\n",
       "      <td>No</td>\n",
       "      <td>Rural</td>\n",
       "      <td>N</td>\n",
       "    </tr>\n",
       "    <tr>\n",
       "      <th>2</th>\n",
       "      <td>Male</td>\n",
       "      <td>Yes</td>\n",
       "      <td>0</td>\n",
       "      <td>Graduate</td>\n",
       "      <td>Yes</td>\n",
       "      <td>Urban</td>\n",
       "      <td>Y</td>\n",
       "    </tr>\n",
       "    <tr>\n",
       "      <th>3</th>\n",
       "      <td>Male</td>\n",
       "      <td>Yes</td>\n",
       "      <td>0</td>\n",
       "      <td>Not Graduate</td>\n",
       "      <td>No</td>\n",
       "      <td>Urban</td>\n",
       "      <td>Y</td>\n",
       "    </tr>\n",
       "    <tr>\n",
       "      <th>4</th>\n",
       "      <td>Male</td>\n",
       "      <td>No</td>\n",
       "      <td>0</td>\n",
       "      <td>Graduate</td>\n",
       "      <td>No</td>\n",
       "      <td>Urban</td>\n",
       "      <td>Y</td>\n",
       "    </tr>\n",
       "  </tbody>\n",
       "</table>\n",
       "</div>"
      ],
      "text/plain": [
       "  Gender Married Dependents     Education Self_Employed Property_Area  \\\n",
       "0   Male      No          0      Graduate            No         Urban   \n",
       "1   Male     Yes          1      Graduate            No         Rural   \n",
       "2   Male     Yes          0      Graduate           Yes         Urban   \n",
       "3   Male     Yes          0  Not Graduate            No         Urban   \n",
       "4   Male      No          0      Graduate            No         Urban   \n",
       "\n",
       "  Loan_Status  \n",
       "0           Y  \n",
       "1           N  \n",
       "2           Y  \n",
       "3           Y  \n",
       "4           Y  "
      ]
     },
     "execution_count": 31,
     "metadata": {},
     "output_type": "execute_result"
    }
   ],
   "source": [
    "cat_data.head()"
   ]
  },
  {
   "cell_type": "code",
   "execution_count": 32,
   "metadata": {},
   "outputs": [
    {
     "data": {
      "text/html": [
       "<div>\n",
       "<style scoped>\n",
       "    .dataframe tbody tr th:only-of-type {\n",
       "        vertical-align: middle;\n",
       "    }\n",
       "\n",
       "    .dataframe tbody tr th {\n",
       "        vertical-align: top;\n",
       "    }\n",
       "\n",
       "    .dataframe thead th {\n",
       "        text-align: right;\n",
       "    }\n",
       "</style>\n",
       "<table border=\"1\" class=\"dataframe\">\n",
       "  <thead>\n",
       "    <tr style=\"text-align: right;\">\n",
       "      <th></th>\n",
       "      <th>ApplicantIncome</th>\n",
       "      <th>CoapplicantIncome</th>\n",
       "      <th>LoanAmount</th>\n",
       "      <th>Loan_Amount_Term</th>\n",
       "      <th>Credit_History</th>\n",
       "    </tr>\n",
       "  </thead>\n",
       "  <tbody>\n",
       "    <tr>\n",
       "      <th>0</th>\n",
       "      <td>5849.0</td>\n",
       "      <td>0.0</td>\n",
       "      <td>NaN</td>\n",
       "      <td>360.0</td>\n",
       "      <td>1.0</td>\n",
       "    </tr>\n",
       "    <tr>\n",
       "      <th>1</th>\n",
       "      <td>4583.0</td>\n",
       "      <td>1508.0</td>\n",
       "      <td>128.0</td>\n",
       "      <td>360.0</td>\n",
       "      <td>1.0</td>\n",
       "    </tr>\n",
       "    <tr>\n",
       "      <th>2</th>\n",
       "      <td>3000.0</td>\n",
       "      <td>0.0</td>\n",
       "      <td>66.0</td>\n",
       "      <td>360.0</td>\n",
       "      <td>1.0</td>\n",
       "    </tr>\n",
       "    <tr>\n",
       "      <th>3</th>\n",
       "      <td>2583.0</td>\n",
       "      <td>2358.0</td>\n",
       "      <td>120.0</td>\n",
       "      <td>360.0</td>\n",
       "      <td>1.0</td>\n",
       "    </tr>\n",
       "    <tr>\n",
       "      <th>4</th>\n",
       "      <td>6000.0</td>\n",
       "      <td>0.0</td>\n",
       "      <td>141.0</td>\n",
       "      <td>360.0</td>\n",
       "      <td>1.0</td>\n",
       "    </tr>\n",
       "  </tbody>\n",
       "</table>\n",
       "</div>"
      ],
      "text/plain": [
       "   ApplicantIncome  CoapplicantIncome  LoanAmount  Loan_Amount_Term  \\\n",
       "0           5849.0                0.0         NaN             360.0   \n",
       "1           4583.0             1508.0       128.0             360.0   \n",
       "2           3000.0                0.0        66.0             360.0   \n",
       "3           2583.0             2358.0       120.0             360.0   \n",
       "4           6000.0                0.0       141.0             360.0   \n",
       "\n",
       "   Credit_History  \n",
       "0             1.0  \n",
       "1             1.0  \n",
       "2             1.0  \n",
       "3             1.0  \n",
       "4             1.0  "
      ]
     },
     "execution_count": 32,
     "metadata": {},
     "output_type": "execute_result"
    }
   ],
   "source": [
    "num_data.head()"
   ]
  },
  {
   "cell_type": "code",
   "execution_count": 33,
   "metadata": {},
   "outputs": [
    {
     "data": {
      "text/plain": [
       "False"
      ]
     },
     "execution_count": 33,
     "metadata": {},
     "output_type": "execute_result"
    }
   ],
   "source": [
    "# missing values for cat_data\n",
    "# filling every column with its own most frequent values\n",
    "\n",
    "cat_data = cat_data.apply(lambda x:x.fillna(x.value_counts().index[0]))\n",
    "cat_data.isnull().sum().any() # check if still data missing"
   ]
  },
  {
   "cell_type": "code",
   "execution_count": 34,
   "metadata": {},
   "outputs": [
    {
     "data": {
      "text/plain": [
       "False"
      ]
     },
     "execution_count": 34,
     "metadata": {},
     "output_type": "execute_result"
    }
   ],
   "source": [
    "# missing values for num_data\n",
    "# filling every column with its previous value in the same column\n",
    "\n",
    "num_data.fillna(method=\"bfill\", inplace=True)\n",
    "num_data.isnull().sum().any() # check if still data missing\n"
   ]
  },
  {
   "cell_type": "markdown",
   "metadata": {},
   "source": [
    "Categorical columns, encoding labels into binary (0, n_classes-1)"
   ]
  },
  {
   "cell_type": "code",
   "execution_count": 35,
   "metadata": {},
   "outputs": [],
   "source": [
    "bck_cat = cat_data.copy()\n",
    "bck_num = num_data.copy()"
   ]
  },
  {
   "cell_type": "code",
   "execution_count": 36,
   "metadata": {},
   "outputs": [
    {
     "data": {
      "text/html": [
       "<div>\n",
       "<style scoped>\n",
       "    .dataframe tbody tr th:only-of-type {\n",
       "        vertical-align: middle;\n",
       "    }\n",
       "\n",
       "    .dataframe tbody tr th {\n",
       "        vertical-align: top;\n",
       "    }\n",
       "\n",
       "    .dataframe thead th {\n",
       "        text-align: right;\n",
       "    }\n",
       "</style>\n",
       "<table border=\"1\" class=\"dataframe\">\n",
       "  <thead>\n",
       "    <tr style=\"text-align: right;\">\n",
       "      <th></th>\n",
       "      <th>Gender</th>\n",
       "      <th>Married</th>\n",
       "      <th>Dependents</th>\n",
       "      <th>Education</th>\n",
       "      <th>Self_Employed</th>\n",
       "      <th>Property_Area</th>\n",
       "      <th>Loan_Status</th>\n",
       "    </tr>\n",
       "  </thead>\n",
       "  <tbody>\n",
       "    <tr>\n",
       "      <th>0</th>\n",
       "      <td>Male</td>\n",
       "      <td>No</td>\n",
       "      <td>0</td>\n",
       "      <td>Graduate</td>\n",
       "      <td>No</td>\n",
       "      <td>Urban</td>\n",
       "      <td>Y</td>\n",
       "    </tr>\n",
       "    <tr>\n",
       "      <th>1</th>\n",
       "      <td>Male</td>\n",
       "      <td>Yes</td>\n",
       "      <td>1</td>\n",
       "      <td>Graduate</td>\n",
       "      <td>No</td>\n",
       "      <td>Rural</td>\n",
       "      <td>N</td>\n",
       "    </tr>\n",
       "    <tr>\n",
       "      <th>2</th>\n",
       "      <td>Male</td>\n",
       "      <td>Yes</td>\n",
       "      <td>0</td>\n",
       "      <td>Graduate</td>\n",
       "      <td>Yes</td>\n",
       "      <td>Urban</td>\n",
       "      <td>Y</td>\n",
       "    </tr>\n",
       "    <tr>\n",
       "      <th>3</th>\n",
       "      <td>Male</td>\n",
       "      <td>Yes</td>\n",
       "      <td>0</td>\n",
       "      <td>Not Graduate</td>\n",
       "      <td>No</td>\n",
       "      <td>Urban</td>\n",
       "      <td>Y</td>\n",
       "    </tr>\n",
       "    <tr>\n",
       "      <th>4</th>\n",
       "      <td>Male</td>\n",
       "      <td>No</td>\n",
       "      <td>0</td>\n",
       "      <td>Graduate</td>\n",
       "      <td>No</td>\n",
       "      <td>Urban</td>\n",
       "      <td>Y</td>\n",
       "    </tr>\n",
       "  </tbody>\n",
       "</table>\n",
       "</div>"
      ],
      "text/plain": [
       "  Gender Married Dependents     Education Self_Employed Property_Area  \\\n",
       "0   Male      No          0      Graduate            No         Urban   \n",
       "1   Male     Yes          1      Graduate            No         Rural   \n",
       "2   Male     Yes          0      Graduate           Yes         Urban   \n",
       "3   Male     Yes          0  Not Graduate            No         Urban   \n",
       "4   Male      No          0      Graduate            No         Urban   \n",
       "\n",
       "  Loan_Status  \n",
       "0           Y  \n",
       "1           N  \n",
       "2           Y  \n",
       "3           Y  \n",
       "4           Y  "
      ]
     },
     "execution_count": 36,
     "metadata": {},
     "output_type": "execute_result"
    }
   ],
   "source": [
    "bck_cat.head()"
   ]
  },
  {
   "cell_type": "code",
   "execution_count": 37,
   "metadata": {},
   "outputs": [],
   "source": [
    "# transform the target column\n",
    "\n",
    "target_values = {'Y': 1, 'N':0}\n",
    "\n",
    "target = bck_cat['Loan_Status']\n",
    "bck_cat.drop('Loan_Status', axis=1, inplace=True) # drop at the column as\n",
    "\n",
    "target = target.map(target_values)"
   ]
  },
  {
   "cell_type": "code",
   "execution_count": 38,
   "metadata": {},
   "outputs": [
    {
     "data": {
      "text/html": [
       "<div>\n",
       "<style scoped>\n",
       "    .dataframe tbody tr th:only-of-type {\n",
       "        vertical-align: middle;\n",
       "    }\n",
       "\n",
       "    .dataframe tbody tr th {\n",
       "        vertical-align: top;\n",
       "    }\n",
       "\n",
       "    .dataframe thead th {\n",
       "        text-align: right;\n",
       "    }\n",
       "</style>\n",
       "<table border=\"1\" class=\"dataframe\">\n",
       "  <thead>\n",
       "    <tr style=\"text-align: right;\">\n",
       "      <th></th>\n",
       "      <th>Gender</th>\n",
       "      <th>Married</th>\n",
       "      <th>Dependents</th>\n",
       "      <th>Education</th>\n",
       "      <th>Self_Employed</th>\n",
       "      <th>Property_Area</th>\n",
       "    </tr>\n",
       "  </thead>\n",
       "  <tbody>\n",
       "    <tr>\n",
       "      <th>0</th>\n",
       "      <td>Male</td>\n",
       "      <td>No</td>\n",
       "      <td>0</td>\n",
       "      <td>Graduate</td>\n",
       "      <td>No</td>\n",
       "      <td>Urban</td>\n",
       "    </tr>\n",
       "    <tr>\n",
       "      <th>1</th>\n",
       "      <td>Male</td>\n",
       "      <td>Yes</td>\n",
       "      <td>1</td>\n",
       "      <td>Graduate</td>\n",
       "      <td>No</td>\n",
       "      <td>Rural</td>\n",
       "    </tr>\n",
       "    <tr>\n",
       "      <th>2</th>\n",
       "      <td>Male</td>\n",
       "      <td>Yes</td>\n",
       "      <td>0</td>\n",
       "      <td>Graduate</td>\n",
       "      <td>Yes</td>\n",
       "      <td>Urban</td>\n",
       "    </tr>\n",
       "    <tr>\n",
       "      <th>3</th>\n",
       "      <td>Male</td>\n",
       "      <td>Yes</td>\n",
       "      <td>0</td>\n",
       "      <td>Not Graduate</td>\n",
       "      <td>No</td>\n",
       "      <td>Urban</td>\n",
       "    </tr>\n",
       "    <tr>\n",
       "      <th>4</th>\n",
       "      <td>Male</td>\n",
       "      <td>No</td>\n",
       "      <td>0</td>\n",
       "      <td>Graduate</td>\n",
       "      <td>No</td>\n",
       "      <td>Urban</td>\n",
       "    </tr>\n",
       "  </tbody>\n",
       "</table>\n",
       "</div>"
      ],
      "text/plain": [
       "  Gender Married Dependents     Education Self_Employed Property_Area\n",
       "0   Male      No          0      Graduate            No         Urban\n",
       "1   Male     Yes          1      Graduate            No         Rural\n",
       "2   Male     Yes          0      Graduate           Yes         Urban\n",
       "3   Male     Yes          0  Not Graduate            No         Urban\n",
       "4   Male      No          0      Graduate            No         Urban"
      ]
     },
     "execution_count": 38,
     "metadata": {},
     "output_type": "execute_result"
    }
   ],
   "source": [
    "bck_cat.head()"
   ]
  },
  {
   "cell_type": "markdown",
   "metadata": {},
   "source": [
    "From the cat_data, we can see two nearby values are more similar than two distant values.The Property_Area has 0, 1 and 2 but ML algorithm should be able to read the data; So we one hot encode it.\n",
    "\n",
    "(for example, categories 0 and 2 are more similar than categories 0 and 1)."
   ]
  },
  {
   "cell_type": "code",
   "execution_count": 39,
   "metadata": {},
   "outputs": [],
   "source": [
    "from sklearn.preprocessing import OneHotEncoder\n",
    "\n",
    "cat_encoder = OneHotEncoder(sparse=False)\n",
    "\n",
    "for i in bck_cat:\n",
    "    bck_cat[i] = cat_encoder.fit_transform(bck_cat[[i]])"
   ]
  },
  {
   "cell_type": "code",
   "execution_count": 40,
   "metadata": {
    "scrolled": true
   },
   "outputs": [
    {
     "data": {
      "text/html": [
       "<div>\n",
       "<style scoped>\n",
       "    .dataframe tbody tr th:only-of-type {\n",
       "        vertical-align: middle;\n",
       "    }\n",
       "\n",
       "    .dataframe tbody tr th {\n",
       "        vertical-align: top;\n",
       "    }\n",
       "\n",
       "    .dataframe thead th {\n",
       "        text-align: right;\n",
       "    }\n",
       "</style>\n",
       "<table border=\"1\" class=\"dataframe\">\n",
       "  <thead>\n",
       "    <tr style=\"text-align: right;\">\n",
       "      <th></th>\n",
       "      <th>Gender</th>\n",
       "      <th>Married</th>\n",
       "      <th>Dependents</th>\n",
       "      <th>Education</th>\n",
       "      <th>Self_Employed</th>\n",
       "      <th>Property_Area</th>\n",
       "    </tr>\n",
       "  </thead>\n",
       "  <tbody>\n",
       "    <tr>\n",
       "      <th>0</th>\n",
       "      <td>0.0</td>\n",
       "      <td>1.0</td>\n",
       "      <td>1.0</td>\n",
       "      <td>1.0</td>\n",
       "      <td>1.0</td>\n",
       "      <td>0.0</td>\n",
       "    </tr>\n",
       "    <tr>\n",
       "      <th>1</th>\n",
       "      <td>0.0</td>\n",
       "      <td>0.0</td>\n",
       "      <td>0.0</td>\n",
       "      <td>1.0</td>\n",
       "      <td>1.0</td>\n",
       "      <td>1.0</td>\n",
       "    </tr>\n",
       "    <tr>\n",
       "      <th>2</th>\n",
       "      <td>0.0</td>\n",
       "      <td>0.0</td>\n",
       "      <td>1.0</td>\n",
       "      <td>1.0</td>\n",
       "      <td>0.0</td>\n",
       "      <td>0.0</td>\n",
       "    </tr>\n",
       "    <tr>\n",
       "      <th>3</th>\n",
       "      <td>0.0</td>\n",
       "      <td>0.0</td>\n",
       "      <td>1.0</td>\n",
       "      <td>0.0</td>\n",
       "      <td>1.0</td>\n",
       "      <td>0.0</td>\n",
       "    </tr>\n",
       "    <tr>\n",
       "      <th>4</th>\n",
       "      <td>0.0</td>\n",
       "      <td>1.0</td>\n",
       "      <td>1.0</td>\n",
       "      <td>1.0</td>\n",
       "      <td>1.0</td>\n",
       "      <td>0.0</td>\n",
       "    </tr>\n",
       "  </tbody>\n",
       "</table>\n",
       "</div>"
      ],
      "text/plain": [
       "   Gender  Married  Dependents  Education  Self_Employed  Property_Area\n",
       "0     0.0      1.0         1.0        1.0            1.0            0.0\n",
       "1     0.0      0.0         0.0        1.0            1.0            1.0\n",
       "2     0.0      0.0         1.0        1.0            0.0            0.0\n",
       "3     0.0      0.0         1.0        0.0            1.0            0.0\n",
       "4     0.0      1.0         1.0        1.0            1.0            0.0"
      ]
     },
     "execution_count": 40,
     "metadata": {},
     "output_type": "execute_result"
    }
   ],
   "source": [
    "bck_cat.head()"
   ]
  },
  {
   "cell_type": "code",
   "execution_count": 41,
   "metadata": {},
   "outputs": [
    {
     "data": {
      "text/html": [
       "<div>\n",
       "<style scoped>\n",
       "    .dataframe tbody tr th:only-of-type {\n",
       "        vertical-align: middle;\n",
       "    }\n",
       "\n",
       "    .dataframe tbody tr th {\n",
       "        vertical-align: top;\n",
       "    }\n",
       "\n",
       "    .dataframe thead th {\n",
       "        text-align: right;\n",
       "    }\n",
       "</style>\n",
       "<table border=\"1\" class=\"dataframe\">\n",
       "  <thead>\n",
       "    <tr style=\"text-align: right;\">\n",
       "      <th></th>\n",
       "      <th>ApplicantIncome</th>\n",
       "      <th>CoapplicantIncome</th>\n",
       "      <th>LoanAmount</th>\n",
       "      <th>Loan_Amount_Term</th>\n",
       "      <th>Credit_History</th>\n",
       "    </tr>\n",
       "  </thead>\n",
       "  <tbody>\n",
       "    <tr>\n",
       "      <th>0</th>\n",
       "      <td>5849.0</td>\n",
       "      <td>0.0</td>\n",
       "      <td>128.0</td>\n",
       "      <td>360.0</td>\n",
       "      <td>1.0</td>\n",
       "    </tr>\n",
       "    <tr>\n",
       "      <th>1</th>\n",
       "      <td>4583.0</td>\n",
       "      <td>1508.0</td>\n",
       "      <td>128.0</td>\n",
       "      <td>360.0</td>\n",
       "      <td>1.0</td>\n",
       "    </tr>\n",
       "    <tr>\n",
       "      <th>2</th>\n",
       "      <td>3000.0</td>\n",
       "      <td>0.0</td>\n",
       "      <td>66.0</td>\n",
       "      <td>360.0</td>\n",
       "      <td>1.0</td>\n",
       "    </tr>\n",
       "    <tr>\n",
       "      <th>3</th>\n",
       "      <td>2583.0</td>\n",
       "      <td>2358.0</td>\n",
       "      <td>120.0</td>\n",
       "      <td>360.0</td>\n",
       "      <td>1.0</td>\n",
       "    </tr>\n",
       "    <tr>\n",
       "      <th>4</th>\n",
       "      <td>6000.0</td>\n",
       "      <td>0.0</td>\n",
       "      <td>141.0</td>\n",
       "      <td>360.0</td>\n",
       "      <td>1.0</td>\n",
       "    </tr>\n",
       "  </tbody>\n",
       "</table>\n",
       "</div>"
      ],
      "text/plain": [
       "   ApplicantIncome  CoapplicantIncome  LoanAmount  Loan_Amount_Term  \\\n",
       "0           5849.0                0.0       128.0             360.0   \n",
       "1           4583.0             1508.0       128.0             360.0   \n",
       "2           3000.0                0.0        66.0             360.0   \n",
       "3           2583.0             2358.0       120.0             360.0   \n",
       "4           6000.0                0.0       141.0             360.0   \n",
       "\n",
       "   Credit_History  \n",
       "0             1.0  \n",
       "1             1.0  \n",
       "2             1.0  \n",
       "3             1.0  \n",
       "4             1.0  "
      ]
     },
     "execution_count": 41,
     "metadata": {},
     "output_type": "execute_result"
    }
   ],
   "source": [
    "bck_num.head()"
   ]
  },
  {
   "cell_type": "markdown",
   "metadata": {},
   "source": [
    "Machine\tLearning\talgorithms\tdon’t\tperform\twell\twhen\tthe\tinput\tnumerical\n",
    "attributes\thave very\tdifferent\tscales.\n",
    "\t\n",
    "Data standardization is about making sure that the data is internally consistent. Standardized values are useful for tracking data that isn't easy to compare otherwise.\n",
    "\n",
    "However, standardization\tis\tmuch\tless\taffected\tby\toutliers.\t"
   ]
  },
  {
   "cell_type": "code",
   "execution_count": 42,
   "metadata": {},
   "outputs": [],
   "source": [
    "# Scaling Numerical data set\n",
    "\n",
    "from sklearn.preprocessing import StandardScaler\n",
    "sc = StandardScaler()\n",
    "\n",
    "for i in bck_num:\n",
    "    bck_num[i] = sc.fit_transform(bck_num[[i]])"
   ]
  },
  {
   "cell_type": "code",
   "execution_count": 43,
   "metadata": {},
   "outputs": [
    {
     "data": {
      "text/html": [
       "<div>\n",
       "<style scoped>\n",
       "    .dataframe tbody tr th:only-of-type {\n",
       "        vertical-align: middle;\n",
       "    }\n",
       "\n",
       "    .dataframe tbody tr th {\n",
       "        vertical-align: top;\n",
       "    }\n",
       "\n",
       "    .dataframe thead th {\n",
       "        text-align: right;\n",
       "    }\n",
       "</style>\n",
       "<table border=\"1\" class=\"dataframe\">\n",
       "  <thead>\n",
       "    <tr style=\"text-align: right;\">\n",
       "      <th></th>\n",
       "      <th>ApplicantIncome</th>\n",
       "      <th>CoapplicantIncome</th>\n",
       "      <th>LoanAmount</th>\n",
       "      <th>Loan_Amount_Term</th>\n",
       "      <th>Credit_History</th>\n",
       "    </tr>\n",
       "  </thead>\n",
       "  <tbody>\n",
       "    <tr>\n",
       "      <th>0</th>\n",
       "      <td>0.072991</td>\n",
       "      <td>-0.554487</td>\n",
       "      <td>-0.217057</td>\n",
       "      <td>0.273231</td>\n",
       "      <td>0.433152</td>\n",
       "    </tr>\n",
       "    <tr>\n",
       "      <th>1</th>\n",
       "      <td>-0.134412</td>\n",
       "      <td>-0.038732</td>\n",
       "      <td>-0.217057</td>\n",
       "      <td>0.273231</td>\n",
       "      <td>0.433152</td>\n",
       "    </tr>\n",
       "    <tr>\n",
       "      <th>2</th>\n",
       "      <td>-0.393747</td>\n",
       "      <td>-0.554487</td>\n",
       "      <td>-0.947774</td>\n",
       "      <td>0.273231</td>\n",
       "      <td>0.433152</td>\n",
       "    </tr>\n",
       "    <tr>\n",
       "      <th>3</th>\n",
       "      <td>-0.462062</td>\n",
       "      <td>0.251980</td>\n",
       "      <td>-0.311343</td>\n",
       "      <td>0.273231</td>\n",
       "      <td>0.433152</td>\n",
       "    </tr>\n",
       "    <tr>\n",
       "      <th>4</th>\n",
       "      <td>0.097728</td>\n",
       "      <td>-0.554487</td>\n",
       "      <td>-0.063843</td>\n",
       "      <td>0.273231</td>\n",
       "      <td>0.433152</td>\n",
       "    </tr>\n",
       "    <tr>\n",
       "      <th>...</th>\n",
       "      <td>...</td>\n",
       "      <td>...</td>\n",
       "      <td>...</td>\n",
       "      <td>...</td>\n",
       "      <td>...</td>\n",
       "    </tr>\n",
       "    <tr>\n",
       "      <th>609</th>\n",
       "      <td>-0.410130</td>\n",
       "      <td>-0.554487</td>\n",
       "      <td>-0.888845</td>\n",
       "      <td>0.273231</td>\n",
       "      <td>0.433152</td>\n",
       "    </tr>\n",
       "    <tr>\n",
       "      <th>610</th>\n",
       "      <td>-0.212557</td>\n",
       "      <td>-0.554487</td>\n",
       "      <td>-1.254204</td>\n",
       "      <td>-2.522836</td>\n",
       "      <td>0.433152</td>\n",
       "    </tr>\n",
       "    <tr>\n",
       "      <th>611</th>\n",
       "      <td>0.437174</td>\n",
       "      <td>-0.472404</td>\n",
       "      <td>1.256161</td>\n",
       "      <td>0.273231</td>\n",
       "      <td>0.433152</td>\n",
       "    </tr>\n",
       "    <tr>\n",
       "      <th>612</th>\n",
       "      <td>0.357064</td>\n",
       "      <td>-0.554487</td>\n",
       "      <td>0.478302</td>\n",
       "      <td>0.273231</td>\n",
       "      <td>0.433152</td>\n",
       "    </tr>\n",
       "    <tr>\n",
       "      <th>613</th>\n",
       "      <td>-0.134412</td>\n",
       "      <td>-0.554487</td>\n",
       "      <td>-0.158129</td>\n",
       "      <td>0.273231</td>\n",
       "      <td>-2.308657</td>\n",
       "    </tr>\n",
       "  </tbody>\n",
       "</table>\n",
       "<p>614 rows × 5 columns</p>\n",
       "</div>"
      ],
      "text/plain": [
       "     ApplicantIncome  CoapplicantIncome  LoanAmount  Loan_Amount_Term  \\\n",
       "0           0.072991          -0.554487   -0.217057          0.273231   \n",
       "1          -0.134412          -0.038732   -0.217057          0.273231   \n",
       "2          -0.393747          -0.554487   -0.947774          0.273231   \n",
       "3          -0.462062           0.251980   -0.311343          0.273231   \n",
       "4           0.097728          -0.554487   -0.063843          0.273231   \n",
       "..               ...                ...         ...               ...   \n",
       "609        -0.410130          -0.554487   -0.888845          0.273231   \n",
       "610        -0.212557          -0.554487   -1.254204         -2.522836   \n",
       "611         0.437174          -0.472404    1.256161          0.273231   \n",
       "612         0.357064          -0.554487    0.478302          0.273231   \n",
       "613        -0.134412          -0.554487   -0.158129          0.273231   \n",
       "\n",
       "     Credit_History  \n",
       "0          0.433152  \n",
       "1          0.433152  \n",
       "2          0.433152  \n",
       "3          0.433152  \n",
       "4          0.433152  \n",
       "..              ...  \n",
       "609        0.433152  \n",
       "610        0.433152  \n",
       "611        0.433152  \n",
       "612        0.433152  \n",
       "613       -2.308657  \n",
       "\n",
       "[614 rows x 5 columns]"
      ]
     },
     "execution_count": 43,
     "metadata": {},
     "output_type": "execute_result"
    }
   ],
   "source": [
    "bck_num"
   ]
  },
  {
   "cell_type": "code",
   "execution_count": 44,
   "metadata": {},
   "outputs": [],
   "source": [
    "X = pd.concat([bck_cat, bck_num], axis=1)\n",
    "y = target"
   ]
  },
  {
   "cell_type": "code",
   "execution_count": 45,
   "metadata": {},
   "outputs": [
    {
     "data": {
      "text/html": [
       "<div>\n",
       "<style scoped>\n",
       "    .dataframe tbody tr th:only-of-type {\n",
       "        vertical-align: middle;\n",
       "    }\n",
       "\n",
       "    .dataframe tbody tr th {\n",
       "        vertical-align: top;\n",
       "    }\n",
       "\n",
       "    .dataframe thead th {\n",
       "        text-align: right;\n",
       "    }\n",
       "</style>\n",
       "<table border=\"1\" class=\"dataframe\">\n",
       "  <thead>\n",
       "    <tr style=\"text-align: right;\">\n",
       "      <th></th>\n",
       "      <th>Gender</th>\n",
       "      <th>Married</th>\n",
       "      <th>Dependents</th>\n",
       "      <th>Education</th>\n",
       "      <th>Self_Employed</th>\n",
       "      <th>Property_Area</th>\n",
       "      <th>ApplicantIncome</th>\n",
       "      <th>CoapplicantIncome</th>\n",
       "      <th>LoanAmount</th>\n",
       "      <th>Loan_Amount_Term</th>\n",
       "      <th>Credit_History</th>\n",
       "    </tr>\n",
       "  </thead>\n",
       "  <tbody>\n",
       "    <tr>\n",
       "      <th>0</th>\n",
       "      <td>0.0</td>\n",
       "      <td>1.0</td>\n",
       "      <td>1.0</td>\n",
       "      <td>1.0</td>\n",
       "      <td>1.0</td>\n",
       "      <td>0.0</td>\n",
       "      <td>0.072991</td>\n",
       "      <td>-0.554487</td>\n",
       "      <td>-0.217057</td>\n",
       "      <td>0.273231</td>\n",
       "      <td>0.433152</td>\n",
       "    </tr>\n",
       "    <tr>\n",
       "      <th>1</th>\n",
       "      <td>0.0</td>\n",
       "      <td>0.0</td>\n",
       "      <td>0.0</td>\n",
       "      <td>1.0</td>\n",
       "      <td>1.0</td>\n",
       "      <td>1.0</td>\n",
       "      <td>-0.134412</td>\n",
       "      <td>-0.038732</td>\n",
       "      <td>-0.217057</td>\n",
       "      <td>0.273231</td>\n",
       "      <td>0.433152</td>\n",
       "    </tr>\n",
       "    <tr>\n",
       "      <th>2</th>\n",
       "      <td>0.0</td>\n",
       "      <td>0.0</td>\n",
       "      <td>1.0</td>\n",
       "      <td>1.0</td>\n",
       "      <td>0.0</td>\n",
       "      <td>0.0</td>\n",
       "      <td>-0.393747</td>\n",
       "      <td>-0.554487</td>\n",
       "      <td>-0.947774</td>\n",
       "      <td>0.273231</td>\n",
       "      <td>0.433152</td>\n",
       "    </tr>\n",
       "    <tr>\n",
       "      <th>3</th>\n",
       "      <td>0.0</td>\n",
       "      <td>0.0</td>\n",
       "      <td>1.0</td>\n",
       "      <td>0.0</td>\n",
       "      <td>1.0</td>\n",
       "      <td>0.0</td>\n",
       "      <td>-0.462062</td>\n",
       "      <td>0.251980</td>\n",
       "      <td>-0.311343</td>\n",
       "      <td>0.273231</td>\n",
       "      <td>0.433152</td>\n",
       "    </tr>\n",
       "    <tr>\n",
       "      <th>4</th>\n",
       "      <td>0.0</td>\n",
       "      <td>1.0</td>\n",
       "      <td>1.0</td>\n",
       "      <td>1.0</td>\n",
       "      <td>1.0</td>\n",
       "      <td>0.0</td>\n",
       "      <td>0.097728</td>\n",
       "      <td>-0.554487</td>\n",
       "      <td>-0.063843</td>\n",
       "      <td>0.273231</td>\n",
       "      <td>0.433152</td>\n",
       "    </tr>\n",
       "  </tbody>\n",
       "</table>\n",
       "</div>"
      ],
      "text/plain": [
       "   Gender  Married  Dependents  Education  Self_Employed  Property_Area  \\\n",
       "0     0.0      1.0         1.0        1.0            1.0            0.0   \n",
       "1     0.0      0.0         0.0        1.0            1.0            1.0   \n",
       "2     0.0      0.0         1.0        1.0            0.0            0.0   \n",
       "3     0.0      0.0         1.0        0.0            1.0            0.0   \n",
       "4     0.0      1.0         1.0        1.0            1.0            0.0   \n",
       "\n",
       "   ApplicantIncome  CoapplicantIncome  LoanAmount  Loan_Amount_Term  \\\n",
       "0         0.072991          -0.554487   -0.217057          0.273231   \n",
       "1        -0.134412          -0.038732   -0.217057          0.273231   \n",
       "2        -0.393747          -0.554487   -0.947774          0.273231   \n",
       "3        -0.462062           0.251980   -0.311343          0.273231   \n",
       "4         0.097728          -0.554487   -0.063843          0.273231   \n",
       "\n",
       "   Credit_History  \n",
       "0        0.433152  \n",
       "1        0.433152  \n",
       "2        0.433152  \n",
       "3        0.433152  \n",
       "4        0.433152  "
      ]
     },
     "execution_count": 45,
     "metadata": {},
     "output_type": "execute_result"
    }
   ],
   "source": [
    "X.head()"
   ]
  },
  {
   "cell_type": "code",
   "execution_count": 46,
   "metadata": {},
   "outputs": [
    {
     "data": {
      "text/plain": [
       "0    0\n",
       "1    1\n",
       "2    0\n",
       "3    0\n",
       "4    0\n",
       "Name: Loan_Status, dtype: int64"
      ]
     },
     "execution_count": 46,
     "metadata": {},
     "output_type": "execute_result"
    }
   ],
   "source": [
    "y.head()"
   ]
  },
  {
   "cell_type": "markdown",
   "metadata": {},
   "source": [
    "### Select and train a model"
   ]
  },
  {
   "cell_type": "markdown",
   "metadata": {},
   "source": [
    "Using StratfiedShuffleSplit, it return a stratified(subset of the total data) randomized folds. This folds are made by preserving the percentage of samples for each class\n",
    "\n",
    "For example, a country's population is composed of 51.3% female and 48.7% male, so a well-conducted survey in that country would try to maintain this ratio in the sample: 513 female and 487 male.\n",
    "\n",
    "This is called stratified sampling: the population is divided into homogeneous subgroups called strata, and the right number of instances is sampled from each stratum to guarantee that the test set is representative of the overall population."
   ]
  },
  {
   "cell_type": "code",
   "execution_count": 47,
   "metadata": {},
   "outputs": [
    {
     "name": "stdout",
     "output_type": "stream",
     "text": [
      "X_train shape (491, 11)\n",
      "y_train shape (491,)\n",
      "X_test shape (123, 11)\n",
      "y_test shape (123,)\n"
     ]
    }
   ],
   "source": [
    "from sklearn.model_selection import StratifiedShuffleSplit\n",
    "\n",
    "sss = StratifiedShuffleSplit(n_splits=1, test_size=0.2, random_state=42)\n",
    "\n",
    "for train, test in sss.split(X, y):\n",
    "    X_train, X_test = X.iloc[train], X.iloc[test]\n",
    "    y_train, y_test = y.iloc[train], y.iloc[test]\n",
    "    \n",
    "print(\"X_train shape\", X_train.shape)\n",
    "print(\"y_train shape\", y_train.shape)\n",
    "print(\"X_test shape\", X_test.shape)\n",
    "print(\"y_test shape\", y_test.shape)"
   ]
  },
  {
   "cell_type": "markdown",
   "metadata": {},
   "source": [
    "#### Build function"
   ]
  },
  {
   "cell_type": "markdown",
   "metadata": {},
   "source": [
    "This functions will help evaluate our model to see if it is improving or not, so as not to repeat this step every time."
   ]
  },
  {
   "cell_type": "markdown",
   "metadata": {},
   "source": [
    "The linear regression predicted a high possiblity that a loan can be given"
   ]
  },
  {
   "cell_type": "code",
   "execution_count": 48,
   "metadata": {},
   "outputs": [
    {
     "name": "stdout",
     "output_type": "stream",
     "text": [
      "Predictions:  [-0.0264502   0.04701626  0.03453973  0.03659736  0.00182198]\n",
      "Highest Predict:  1.0419115589304773\n"
     ]
    }
   ],
   "source": [
    "from sklearn.linear_model import LinearRegression\n",
    "\n",
    "lin_reg = LinearRegression()\n",
    "lin_reg.fit(X_train[:5], y_train[:5])\n",
    "predictions = lin_reg.predict(X_test)\n",
    "\n",
    "print(\"Predictions: \", predictions[:5])\n",
    "print(\"Highest Predict: \", max(predictions))"
   ]
  },
  {
   "cell_type": "code",
   "execution_count": null,
   "metadata": {},
   "outputs": [],
   "source": []
  },
  {
   "cell_type": "code",
   "execution_count": 49,
   "metadata": {},
   "outputs": [],
   "source": [
    "from sklearn.metrics import precision_score, recall_score, f1_score, log_loss, accuracy_score\n",
    "from sklearn.linear_model import LogisticRegression\n",
    "from sklearn.neighbors import KNeighborsClassifier\n",
    "from sklearn.svm import SVC\n",
    "from sklearn.tree import DecisionTreeClassifier\n",
    "from sklearn.ensemble import RandomForestClassifier\n",
    "import re\n",
    "\n",
    "class TrainRunModel:\n",
    "    \n",
    "    def __init__(self, X_train, y_train, X_test, y_test):\n",
    "        self.X_train = X_train\n",
    "        self.y_train = y_train\n",
    "        self.X_test = X_test\n",
    "        self.y_test = y_test\n",
    "        \n",
    "        self.model_accuracy = {}\n",
    "        self.predictions = {}\n",
    "        self.acc = None\n",
    "        \n",
    "        self.models = {\n",
    "                    'Logistic Regression': LogisticRegression(random_state=42),\n",
    "                    'KNeighbors Classifier': KNeighborsClassifier(),\n",
    "                    'SVC': SVC(kernel=\"linear\", random_state=42),\n",
    "                    'Decision Tree Classifier': DecisionTreeClassifier(max_depth=1, random_state=42),\n",
    "                    'Random Forest Classifier': RandomForestClassifier(n_estimators=10, random_state=42)\n",
    "                    }\n",
    "        \n",
    "    \n",
    "    def loss(self,y_true, y_pred, retu=False):\n",
    "        \"\"\"This function calculates the metrics of the model\"\"\"\n",
    "        pre = precision_score(y_true, y_pred)\n",
    "        rec = recall_score(y_true, y_pred)\n",
    "        f1 = f1_score(y_true, y_pred)\n",
    "        loss = log_loss(y_true, y_pred)\n",
    "        acc = accuracy_score(y_true, y_pred)\n",
    "        \n",
    "        self.acc = acc\n",
    "        \n",
    "        if retu:\n",
    "            \n",
    "            return pre, rec, f1, loss, acc, model\n",
    "\n",
    "        else:\n",
    "            print('  precision: %.3f\\n  recall: %.3f\\n  f1-score: %.3f\\n  loss: %.3f\\n  accuracy: %.3f' % (pre, rec, f1, loss, acc))\n",
    "\n",
    "    \n",
    "\n",
    "    def train_eval_train(self, search=None):\n",
    "        \"\"\"This function evaluate our models in the same data that \n",
    "        we train it on .\n",
    "        The \"search params helps to train only the model you want.\"\n",
    "        \"\"\"\n",
    "\n",
    "\n",
    "        X = self.X_train\n",
    "        y = self.y_train\n",
    "        X_tes = self.X_test\n",
    "        y_tes = self.y_test\n",
    "        \n",
    "        if not search:\n",
    "            for name, model in self.models.items():\n",
    "                print(name,':')\n",
    "                model.fit(X, y)\n",
    "                self.predictions[name] = model.predict(X_tes)\n",
    "                self.loss(y_tes, model.predict(X_tes))\n",
    "                self.model_accuracy[name] = self.acc\n",
    "                print('-'*40)\n",
    "\n",
    "        else:\n",
    "            search = search.lower()[:5]\n",
    "            for name, model in self.models.items():\n",
    "                print(name,':')\n",
    "                model.fit(X, y)\n",
    "                print()\n",
    "                if re.search(search, name.lower()):\n",
    "                    self.predictions[name] = model.predict(X_tes)\n",
    "                    self.loss(y_tes, model.predict(X_tes))\n",
    "                    self.model_accuracy[name] = self.acc\n",
    "                    print('-'*40)\n",
    "                    \n",
    "        \n",
    "    def display_accuracy(self):\n",
    "        return self.model_accuracy\n",
    "    \n",
    "    \n",
    "    def display_predictions(self):\n",
    "        return self.predictions\n",
    "    \n",
    "\n",
    "    def display_predicted_result(self):\n",
    "        sns.set(style=\"darkgrid\")\n",
    "        plt.figure(figsize=(12, 6))\n",
    "        \n",
    "        print (\"FOLLOWING IS THE COUNTPLOT DISPLAYING THE PREDICTIONS - \")\n",
    "        print(\"-\"*60)\n",
    "        \n",
    "        for _, i in self.predictions.items():\n",
    "            plt.figure()\n",
    "            ax = sns.countplot(x=i)\n",
    "            ax.set_title(_)\n",
    "            ax.set_xticklabels([\"Loan Approved\", \"Loan Not Approved\",])\n",
    "            "
   ]
  },
  {
   "cell_type": "code",
   "execution_count": 50,
   "metadata": {},
   "outputs": [],
   "source": [
    "model_class = TrainRunModel(X_train, y_train, X_test, y_test)"
   ]
  },
  {
   "cell_type": "code",
   "execution_count": 51,
   "metadata": {
    "scrolled": false
   },
   "outputs": [
    {
     "name": "stdout",
     "output_type": "stream",
     "text": [
      "Logistic Regression :\n",
      "  precision: 0.818\n",
      "  recall: 0.474\n",
      "  f1-score: 0.600\n",
      "  loss: 6.739\n",
      "  accuracy: 0.805\n",
      "----------------------------------------\n",
      "KNeighbors Classifier :\n",
      "  precision: 0.613\n",
      "  recall: 0.500\n",
      "  f1-score: 0.551\n",
      "  loss: 8.705\n",
      "  accuracy: 0.748\n",
      "----------------------------------------\n",
      "SVC :\n",
      "  precision: 0.850\n",
      "  recall: 0.447\n",
      "  f1-score: 0.586\n",
      "  loss: 6.739\n",
      "  accuracy: 0.805\n",
      "----------------------------------------\n",
      "Decision Tree Classifier :\n",
      "  precision: 0.850\n",
      "  recall: 0.447\n",
      "  f1-score: 0.586\n",
      "  loss: 6.739\n",
      "  accuracy: 0.805\n",
      "----------------------------------------\n",
      "Random Forest Classifier :\n",
      "  precision: 0.773\n",
      "  recall: 0.447\n",
      "  f1-score: 0.567\n",
      "  loss: 7.301\n",
      "  accuracy: 0.789\n",
      "----------------------------------------\n"
     ]
    }
   ],
   "source": [
    "model_class.train_eval_train()"
   ]
  },
  {
   "cell_type": "code",
   "execution_count": 52,
   "metadata": {},
   "outputs": [
    {
     "data": {
      "text/plain": [
       "{'Logistic Regression': 0.8048780487804879,\n",
       " 'KNeighbors Classifier': 0.7479674796747967,\n",
       " 'SVC': 0.8048780487804879,\n",
       " 'Decision Tree Classifier': 0.8048780487804879,\n",
       " 'Random Forest Classifier': 0.7886178861788617}"
      ]
     },
     "execution_count": 52,
     "metadata": {},
     "output_type": "execute_result"
    }
   ],
   "source": [
    "model_class.display_accuracy()"
   ]
  },
  {
   "cell_type": "code",
   "execution_count": 53,
   "metadata": {
    "scrolled": false
   },
   "outputs": [
    {
     "name": "stdout",
     "output_type": "stream",
     "text": [
      "FOLLOWING IS THE COUNTPLOT DISPLAYING THE PREDICTIONS - \n",
      "------------------------------------------------------------\n"
     ]
    },
    {
     "data": {
      "text/plain": [
       "<Figure size 864x432 with 0 Axes>"
      ]
     },
     "metadata": {},
     "output_type": "display_data"
    },
    {
     "data": {
      "image/png": "[encoded data removed]",
      "text/plain": [
       "<Figure size 432x288 with 1 Axes>"
      ]
     },
     "metadata": {},
     "output_type": "display_data"
    },
    {
     "data": {
      "image/png": "[encoded data removed]",
      "text/plain": [
       "<Figure size 432x288 with 1 Axes>"
      ]
     },
     "metadata": {},
     "output_type": "display_data"
    },
    {
     "data": {
      "image/png": "[encoded data removed]",
      "text/plain": [
       "<Figure size 432x288 with 1 Axes>"
      ]
     },
     "metadata": {},
     "output_type": "display_data"
    },
    {
     "data": {
      "image/png": "[encoded data removed]",
      "text/plain": [
       "<Figure size 432x288 with 1 Axes>"
      ]
     },
     "metadata": {},
     "output_type": "display_data"
    },
    {
     "data": {
      "image/png": "[encoded data removed]",
      "text/plain": [
       "<Figure size 432x288 with 1 Axes>"
      ]
     },
     "metadata": {},
     "output_type": "display_data"
    }
   ],
   "source": [
    "model_class.display_predicted_result()"
   ]
  },
  {
   "cell_type": "markdown",
   "metadata": {},
   "source": [
    "From the model prediction above, it seems Logistic Regression, Decision Tree classifier and SVC had the best scores"
   ]
  },
  {
   "cell_type": "markdown",
   "metadata": {},
   "source": [
    "## Fine-tune your model."
   ]
  },
  {
   "cell_type": "code",
   "execution_count": 54,
   "metadata": {},
   "outputs": [],
   "source": [
    "# Using Gridsearch"
   ]
  },
  {
   "cell_type": "markdown",
   "metadata": {},
   "source": [
    "the reason am fine tuning the model with Gridsearch is to get the right hyperparameters our model better."
   ]
  },
  {
   "cell_type": "code",
   "execution_count": 55,
   "metadata": {},
   "outputs": [
    {
     "data": {
      "text/plain": [
       "GridSearchCV(cv=5, error_score=nan,\n",
       "             estimator=RandomForestClassifier(bootstrap=True, ccp_alpha=0.0,\n",
       "                                              class_weight=None,\n",
       "                                              criterion='gini', max_depth=None,\n",
       "                                              max_features='auto',\n",
       "                                              max_leaf_nodes=None,\n",
       "                                              max_samples=None,\n",
       "                                              min_impurity_decrease=0.0,\n",
       "                                              min_impurity_split=None,\n",
       "                                              min_samples_leaf=1,\n",
       "                                              min_samples_split=2,\n",
       "                                              min_weight_fraction_leaf=0.0,\n",
       "                                              n_estimators=100, n_jobs=None,\n",
       "                                              oob_score=False, random_state=42,\n",
       "                                              verbose=0, warm_start=False),\n",
       "             iid='deprecated', n_jobs=None,\n",
       "             param_grid=[{'max_features': [2, 4, 6, 8],\n",
       "                          'n_estimators': [3, 10, 30]},\n",
       "                         {'bootstrap': [False], 'max_features': [2, 3, 4],\n",
       "                          'n_estimators': [3, 10]}],\n",
       "             pre_dispatch='2*n_jobs', refit='Accuracy', return_train_score=True,\n",
       "             scoring={'Accuracy': make_scorer(accuracy_score),\n",
       "                      'loss': make_scorer(log_loss)},\n",
       "             verbose=0)"
      ]
     },
     "execution_count": 55,
     "metadata": {},
     "output_type": "execute_result"
    }
   ],
   "source": [
    "from sklearn.model_selection import GridSearchCV\n",
    "from sklearn.metrics import precision_score, recall_score, f1_score, log_loss, accuracy_score\n",
    "from sklearn.metrics import make_scorer\n",
    "\n",
    "param_grid = [\n",
    "    # am trying 12 (3x4) combinations of hyperparater\n",
    "    {'n_estimators': [3, 10, 30], 'max_features': [2, 4, 6 , 8]},\n",
    "    \n",
    "    # then we try a 6 (2x3) combinations with bootstrap set as False\n",
    "    {'bootstrap':[False], 'n_estimators':[3, 10], 'max_features':[2 , 3, 4]}\n",
    "]\n",
    "\n",
    "# am using this model because its the best model of our dataset\n",
    "forest_reg = RandomForestClassifier(random_state=42)\n",
    "\n",
    "# a multi-metric evaluation \n",
    "scoring = {'Accuracy': make_scorer(accuracy_score), 'loss': make_scorer(log_loss)}\n",
    "\n",
    "# train across 5 folds, that's (12+6)*5=90 rounds of training\n",
    "grid_search = GridSearchCV(forest_reg, param_grid, cv=5,\n",
    "                          scoring=scoring, refit='Accuracy', return_train_score=True)\n",
    "\n",
    "grid_search.fit(X_train, y_train)"
   ]
  },
  {
   "cell_type": "markdown",
   "metadata": {},
   "source": [
    "The best hyperparameter combination found"
   ]
  },
  {
   "cell_type": "code",
   "execution_count": 56,
   "metadata": {},
   "outputs": [
    {
     "data": {
      "text/plain": [
       "{'max_features': 6, 'n_estimators': 30}"
      ]
     },
     "execution_count": 56,
     "metadata": {},
     "output_type": "execute_result"
    }
   ],
   "source": [
    "grid_search.best_params_"
   ]
  },
  {
   "cell_type": "code",
   "execution_count": 57,
   "metadata": {},
   "outputs": [
    {
     "data": {
      "text/plain": [
       "RandomForestClassifier(bootstrap=True, ccp_alpha=0.0, class_weight=None,\n",
       "                       criterion='gini', max_depth=None, max_features=6,\n",
       "                       max_leaf_nodes=None, max_samples=None,\n",
       "                       min_impurity_decrease=0.0, min_impurity_split=None,\n",
       "                       min_samples_leaf=1, min_samples_split=2,\n",
       "                       min_weight_fraction_leaf=0.0, n_estimators=30,\n",
       "                       n_jobs=None, oob_score=False, random_state=42, verbose=0,\n",
       "                       warm_start=False)"
      ]
     },
     "execution_count": 57,
     "metadata": {},
     "output_type": "execute_result"
    }
   ],
   "source": [
    "grid_search.best_estimator_"
   ]
  },
  {
   "cell_type": "markdown",
   "metadata": {},
   "source": [
    "Let's look at the score of each hyperparameter combination tested during the grid search."
   ]
  },
  {
   "cell_type": "code",
   "execution_count": 58,
   "metadata": {},
   "outputs": [
    {
     "data": {
      "text/plain": [
       "{'mean_fit_time': array([0.03021441, 0.06479635, 0.19639659, 0.03080893, 0.06700225,\n",
       "        0.23480558, 0.02741952, 0.06980495, 0.19620819, 0.0285974 ,\n",
       "        0.07699704, 0.20189204, 0.02400517, 0.0616065 , 0.02698736,\n",
       "        0.06779628, 0.04279485, 0.06879506]),\n",
       " 'std_fit_time': array([0.00665614, 0.00664001, 0.02488683, 0.00738534, 0.00296517,\n",
       "        0.10223498, 0.00149272, 0.0040121 , 0.00820472, 0.00241407,\n",
       "        0.00654342, 0.00582241, 0.00062685, 0.00571222, 0.00316816,\n",
       "        0.00655349, 0.02626061, 0.00549464]),\n",
       " 'mean_score_time': array([0.01439714, 0.01561365, 0.02720318, 0.01300149, 0.01639953,\n",
       "        0.03120055, 0.01260276, 0.01619339, 0.02939372, 0.01100183,\n",
       "        0.01572685, 0.0317986 , 0.01179266, 0.01618905, 0.01181731,\n",
       "        0.01580024, 0.01280255, 0.01520262]),\n",
       " 'std_score_time': array([0.00208262, 0.00135767, 0.00147093, 0.00297098, 0.00149918,\n",
       "        0.00624431, 0.00241685, 0.0024033 , 0.00257516, 0.00063207,\n",
       "        0.00102462, 0.00530312, 0.00074062, 0.0011656 , 0.00146814,\n",
       "        0.00116374, 0.003123  , 0.0017262 ]),\n",
       " 'param_max_features': masked_array(data=[2, 2, 2, 4, 4, 4, 6, 6, 6, 8, 8, 8, 2, 2, 3, 3, 4, 4],\n",
       "              mask=[False, False, False, False, False, False, False, False,\n",
       "                    False, False, False, False, False, False, False, False,\n",
       "                    False, False],\n",
       "        fill_value='?',\n",
       "             dtype=object),\n",
       " 'param_n_estimators': masked_array(data=[3, 10, 30, 3, 10, 30, 3, 10, 30, 3, 10, 30, 3, 10, 3,\n",
       "                    10, 3, 10],\n",
       "              mask=[False, False, False, False, False, False, False, False,\n",
       "                    False, False, False, False, False, False, False, False,\n",
       "                    False, False],\n",
       "        fill_value='?',\n",
       "             dtype=object),\n",
       " 'param_bootstrap': masked_array(data=[--, --, --, --, --, --, --, --, --, --, --, --, False,\n",
       "                    False, False, False, False, False],\n",
       "              mask=[ True,  True,  True,  True,  True,  True,  True,  True,\n",
       "                     True,  True,  True,  True, False, False, False, False,\n",
       "                    False, False],\n",
       "        fill_value='?',\n",
       "             dtype=object),\n",
       " 'params': [{'max_features': 2, 'n_estimators': 3},\n",
       "  {'max_features': 2, 'n_estimators': 10},\n",
       "  {'max_features': 2, 'n_estimators': 30},\n",
       "  {'max_features': 4, 'n_estimators': 3},\n",
       "  {'max_features': 4, 'n_estimators': 10},\n",
       "  {'max_features': 4, 'n_estimators': 30},\n",
       "  {'max_features': 6, 'n_estimators': 3},\n",
       "  {'max_features': 6, 'n_estimators': 10},\n",
       "  {'max_features': 6, 'n_estimators': 30},\n",
       "  {'max_features': 8, 'n_estimators': 3},\n",
       "  {'max_features': 8, 'n_estimators': 10},\n",
       "  {'max_features': 8, 'n_estimators': 30},\n",
       "  {'bootstrap': False, 'max_features': 2, 'n_estimators': 3},\n",
       "  {'bootstrap': False, 'max_features': 2, 'n_estimators': 10},\n",
       "  {'bootstrap': False, 'max_features': 3, 'n_estimators': 3},\n",
       "  {'bootstrap': False, 'max_features': 3, 'n_estimators': 10},\n",
       "  {'bootstrap': False, 'max_features': 4, 'n_estimators': 3},\n",
       "  {'bootstrap': False, 'max_features': 4, 'n_estimators': 10}],\n",
       " 'split0_test_Accuracy': array([0.68686869, 0.75757576, 0.75757576, 0.64646465, 0.73737374,\n",
       "        0.74747475, 0.70707071, 0.72727273, 0.76767677, 0.6969697 ,\n",
       "        0.76767677, 0.74747475, 0.72727273, 0.74747475, 0.72727273,\n",
       "        0.77777778, 0.74747475, 0.75757576]),\n",
       " 'split1_test_Accuracy': array([0.70408163, 0.75510204, 0.75510204, 0.75510204, 0.75510204,\n",
       "        0.73469388, 0.75510204, 0.73469388, 0.80612245, 0.75510204,\n",
       "        0.75510204, 0.7755102 , 0.73469388, 0.71428571, 0.7244898 ,\n",
       "        0.7755102 , 0.73469388, 0.75510204]),\n",
       " 'split2_test_Accuracy': array([0.68367347, 0.75510204, 0.73469388, 0.74489796, 0.76530612,\n",
       "        0.76530612, 0.75510204, 0.76530612, 0.7755102 , 0.74489796,\n",
       "        0.78571429, 0.74489796, 0.69387755, 0.7244898 , 0.73469388,\n",
       "        0.7244898 , 0.67346939, 0.71428571]),\n",
       " 'split3_test_Accuracy': array([0.82653061, 0.83673469, 0.82653061, 0.79591837, 0.78571429,\n",
       "        0.80612245, 0.74489796, 0.80612245, 0.79591837, 0.76530612,\n",
       "        0.79591837, 0.81632653, 0.75510204, 0.80612245, 0.73469388,\n",
       "        0.76530612, 0.80612245, 0.7755102 ]),\n",
       " 'split4_test_Accuracy': array([0.76530612, 0.76530612, 0.78571429, 0.76530612, 0.76530612,\n",
       "        0.7755102 , 0.70408163, 0.7755102 , 0.79591837, 0.78571429,\n",
       "        0.7244898 , 0.7755102 , 0.69387755, 0.7755102 , 0.71428571,\n",
       "        0.74489796, 0.73469388, 0.73469388]),\n",
       " 'mean_test_Accuracy': array([0.7332921 , 0.77396413, 0.77192331, 0.74153783, 0.76176046,\n",
       "        0.76582148, 0.73325088, 0.76178108, 0.78822923, 0.74959802,\n",
       "        0.76578025, 0.77194393, 0.72096475, 0.75357658, 0.7270872 ,\n",
       "        0.75759637, 0.73929087, 0.74743352]),\n",
       " 'std_test_Accuracy': array([0.05511572, 0.03160772, 0.03177101, 0.05051012, 0.01573516,\n",
       "        0.02459201, 0.02292094, 0.02860634, 0.01430098, 0.0295745 ,\n",
       "        0.02501277, 0.02578944, 0.02392098, 0.03367253, 0.00756812,\n",
       "        0.0202234 , 0.0422094 , 0.02102878]),\n",
       " 'rank_test_Accuracy': array([15,  2,  4, 13,  8,  5, 16,  7,  1, 11,  6,  3, 18, 10, 17,  9, 14,\n",
       "        12]),\n",
       " 'split0_train_Accuracy': array([0.93367347, 0.96683673, 0.99234694, 0.94132653, 0.9744898 ,\n",
       "        0.99489796, 0.94642857, 0.97959184, 0.99234694, 0.93877551,\n",
       "        0.97704082, 0.99234694, 1.        , 1.        , 1.        ,\n",
       "        1.        , 1.        , 1.        ]),\n",
       " 'split1_train_Accuracy': array([0.94910941, 0.96946565, 0.99491094, 0.94656489, 0.97455471,\n",
       "        0.99491094, 0.92366412, 0.97455471, 0.99745547, 0.94402036,\n",
       "        0.97964377, 0.99491094, 1.        , 1.        , 1.        ,\n",
       "        1.        , 1.        , 1.        ]),\n",
       " 'split2_train_Accuracy': array([0.94910941, 0.97964377, 1.        , 0.9389313 , 0.96946565,\n",
       "        0.99491094, 0.94147583, 0.97964377, 0.99745547, 0.95165394,\n",
       "        0.96946565, 0.99491094, 1.        , 1.        , 1.        ,\n",
       "        1.        , 1.        , 1.        ]),\n",
       " 'split3_train_Accuracy': array([0.93638677, 0.97455471, 1.        , 0.9389313 , 0.97455471,\n",
       "        1.        , 0.94910941, 0.97964377, 0.99745547, 0.92875318,\n",
       "        0.96692112, 1.        , 1.        , 1.        , 1.        ,\n",
       "        1.        , 1.        , 1.        ]),\n",
       " 'split4_train_Accuracy': array([0.93384224, 0.97964377, 1.        , 0.93638677, 0.97455471,\n",
       "        1.        , 0.94147583, 0.96692112, 1.        , 0.92366412,\n",
       "        0.96692112, 1.        , 1.        , 1.        , 1.        ,\n",
       "        1.        , 1.        , 1.        ]),\n",
       " 'mean_train_Accuracy': array([0.94042426, 0.97402892, 0.99745158, 0.94042816, 0.97352391,\n",
       "        0.99694397, 0.94043075, 0.97607104, 0.99694267, 0.93737342,\n",
       "        0.97199849, 0.99643376, 1.        , 1.        , 1.        ,\n",
       "        1.        , 1.        , 1.        ]),\n",
       " 'std_train_Accuracy': array([0.00715627, 0.00521307, 0.00322476, 0.00344327, 0.00202929,\n",
       "        0.00249524, 0.00888366, 0.00497886, 0.00250028, 0.01012259,\n",
       "        0.00532635, 0.00305863, 0.        , 0.        , 0.        ,\n",
       "        0.        , 0.        , 0.        ]),\n",
       " 'split0_test_loss': array([10.81528548,  8.37307709,  8.37307709, 12.21080775,  9.07083822,\n",
       "         8.72194554, 10.11751627,  9.41972283,  8.02419248, 10.46640895,\n",
       "         8.02419248,  8.72195361,  9.41976321,  8.72196977,  9.41976321,\n",
       "         7.6753321 ,  8.72197784,  8.37307709]),\n",
       " 'split1_test_loss': array([10.22074807,  8.45854113,  8.45853297,  8.45855744,  8.45854113,\n",
       "         9.16343043,  8.45859008,  9.16343043,  6.69632602,  8.45854928,\n",
       "         8.45854113,  7.75365998,  9.16344675,  9.86833606,  9.51590772,\n",
       "         7.75366814,  9.16344675,  8.45854928]),\n",
       " 'split2_test_loss': array([10.92562922,  8.45854113,  9.16341411,  8.8110021 ,  8.10610463,\n",
       "         8.10610463,  8.45855744,  8.10611279,  7.75365998,  8.8110021 ,\n",
       "         7.40122348,  8.81098578, 10.57322536,  9.51587508,  9.16345491,\n",
       "         9.51588324, 11.27811467,  9.86833606]),\n",
       " 'split3_test_loss': array([5.99146119, 5.63900022, 5.99143671, 7.04880331, 7.40121533,\n",
       "        6.69632602, 8.81101841, 6.69632602, 7.04877067, 8.10611279,\n",
       "        7.04876251, 6.34388137, 8.4585656 , 6.69633418, 9.16343859,\n",
       "        8.10610463, 6.69635866, 7.75366814]),\n",
       " 'split4_test_loss': array([ 8.10612095,  8.10608831,  7.40120717,  8.10610463,  8.10607199,\n",
       "         7.75364366, 10.22074807,  7.7536355 ,  7.04877067,  7.40123164,\n",
       "         9.51584245,  7.75365182, 10.57320088,  7.75365182,  9.8682871 ,\n",
       "         8.81096946,  9.16342227,  9.16341411]),\n",
       " 'mean_test_loss': array([9.21184898, 7.80704957, 7.87753361, 8.92705505, 8.22855426,\n",
       "        8.08829006, 9.21328606, 8.22784551, 7.31434396, 8.64866095,\n",
       "        8.08971241, 7.87682651, 9.63764036, 8.51123338, 9.42617031,\n",
       "        8.37239152, 9.00466404, 8.72340894]),\n",
       " 'std_test_loss': array([1.90365232, 1.091708  , 1.09734777, 1.74457899, 0.54347433,\n",
       "        0.84938985, 0.79165808, 0.98804217, 0.49394089, 1.02148356,\n",
       "        0.86391759, 0.89074757, 0.82621306, 1.16303322, 0.26138418,\n",
       "        0.69850456, 1.45788745, 0.7263254 ]),\n",
       " 'rank_test_loss': array([ 4, 17, 15,  6, 11, 14,  3, 12, 18,  8, 13, 16,  1,  9,  2, 10,  5,\n",
       "         7]),\n",
       " 'split0_train_loss': array([2.29085965e+00, 1.14542064e+00, 2.64327370e-01, 2.02653024e+00,\n",
       "        8.81093274e-01, 1.76218247e-01, 1.85030587e+00, 7.04872988e-01,\n",
       "        2.64327370e-01, 2.11463732e+00, 7.92984151e-01, 2.64327370e-01,\n",
       "        9.99200722e-16, 9.99200722e-16, 9.99200722e-16, 9.99200722e-16,\n",
       "        9.99200722e-16, 9.99200722e-16]),\n",
       " 'split1_train_loss': array([1.75771889e+00, 1.05462116e+00, 1.75771889e-01, 1.84560178e+00,\n",
       "        8.78849272e-01, 1.75771889e-01, 2.63657834e+00, 8.78849272e-01,\n",
       "        8.78869618e-02, 1.93348264e+00, 7.03079418e-01, 1.75771889e-01,\n",
       "        9.99200722e-16, 9.99200722e-16, 9.99200722e-16, 9.99200722e-16,\n",
       "        9.99200722e-16, 9.99200722e-16]),\n",
       " 'split2_train_loss': array([1.75771075e+00, 7.03079418e-01, 9.99200722e-16, 2.10925250e+00,\n",
       "        1.05462320e+00, 1.75771889e-01, 2.02137367e+00, 7.03083487e-01,\n",
       "        8.78869618e-02, 1.66982176e+00, 1.05462320e+00, 1.75771889e-01,\n",
       "        9.99200722e-16, 9.99200722e-16, 9.99200722e-16, 9.99200722e-16,\n",
       "        9.99200722e-16, 9.99200722e-16]),\n",
       " 'split3_train_loss': array([2.19713335e+00, 8.78849272e-01, 9.99200722e-16, 2.10925046e+00,\n",
       "        8.78851307e-01, 9.99200722e-16, 1.75770872e+00, 7.03079418e-01,\n",
       "        8.78849272e-02, 2.46079424e+00, 1.14250812e+00, 9.99200722e-16,\n",
       "        9.99200722e-16, 9.99200722e-16, 9.99200722e-16, 9.99200722e-16,\n",
       "        9.99200722e-16, 9.99200722e-16]),\n",
       " 'split4_train_loss': array([2.28502438e+00, 7.03079418e-01, 9.99200722e-16, 2.19713539e+00,\n",
       "        8.78851307e-01, 9.99200722e-16, 2.02136146e+00, 1.14250609e+00,\n",
       "        9.99200722e-16, 2.63657020e+00, 1.14250405e+00, 9.99200722e-16,\n",
       "        9.99200722e-16, 9.99200722e-16, 9.99200722e-16, 9.99200722e-16,\n",
       "        9.99200722e-16, 9.99200722e-16]),\n",
       " 'mean_train_loss': array([2.05768941e+00, 8.97009983e-01, 8.80198519e-02, 2.05755407e+00,\n",
       "        9.14453671e-01, 1.05552405e-01, 2.05746561e+00, 8.26478251e-01,\n",
       "        1.05597244e-01, 2.16306123e+00, 9.67139788e-01, 1.23174230e-01,\n",
       "        9.99200722e-16, 9.99200722e-16, 9.99200722e-16, 9.99200722e-16,\n",
       "        9.99200722e-16, 9.99200722e-16]),\n",
       " 'std_train_loss': array([0.24716944, 0.18005393, 0.11137975, 0.11892387, 0.07009014,\n",
       "        0.08618333, 0.30683775, 0.17196377, 0.08635631, 0.34962611,\n",
       "        0.18396635, 0.10564187, 0.        , 0.        , 0.        ,\n",
       "        0.        , 0.        , 0.        ])}"
      ]
     },
     "execution_count": 58,
     "metadata": {},
     "output_type": "execute_result"
    }
   ],
   "source": [
    "grid_search.cv_results_"
   ]
  },
  {
   "cell_type": "code",
   "execution_count": 59,
   "metadata": {},
   "outputs": [
    {
     "name": "stdout",
     "output_type": "stream",
     "text": [
      "0.30214405059814453 0.014397144317626953 {'max_features': 2, 'n_estimators': 3}\n",
      "0.6479635238647461 0.015613651275634766 {'max_features': 2, 'n_estimators': 10}\n",
      "1.963965892791748 0.027203178405761717 {'max_features': 2, 'n_estimators': 30}\n",
      "0.3080892562866211 0.013001489639282226 {'max_features': 4, 'n_estimators': 3}\n",
      "0.6700224876403809 0.016399526596069337 {'max_features': 4, 'n_estimators': 10}\n",
      "2.348055839538574 0.031200551986694337 {'max_features': 4, 'n_estimators': 30}\n",
      "0.27419519424438477 0.012602758407592774 {'max_features': 6, 'n_estimators': 3}\n",
      "0.6980495452880859 0.016193389892578125 {'max_features': 6, 'n_estimators': 10}\n",
      "1.9620819091796875 0.029393720626831054 {'max_features': 6, 'n_estimators': 30}\n",
      "0.28597402572631836 0.011001825332641602 {'max_features': 8, 'n_estimators': 3}\n",
      "0.7699704170227051 0.015726852416992187 {'max_features': 8, 'n_estimators': 10}\n",
      "2.018920421600342 0.031798601150512695 {'max_features': 8, 'n_estimators': 30}\n",
      "0.2400517463684082 0.011792659759521484 {'bootstrap': False, 'max_features': 2, 'n_estimators': 3}\n",
      "0.6160650253295898 0.016189050674438477 {'bootstrap': False, 'max_features': 2, 'n_estimators': 10}\n",
      "0.26987361907958984 0.011817312240600586 {'bootstrap': False, 'max_features': 3, 'n_estimators': 3}\n",
      "0.6779627799987793 0.01580023765563965 {'bootstrap': False, 'max_features': 3, 'n_estimators': 10}\n",
      "0.4279484748840332 0.012802553176879884 {'bootstrap': False, 'max_features': 4, 'n_estimators': 3}\n",
      "0.687950611114502 0.015202617645263672 {'bootstrap': False, 'max_features': 4, 'n_estimators': 10}\n"
     ]
    }
   ],
   "source": [
    "cvres = grid_search.cv_results_\n",
    "\n",
    "for acc, loss ,params in zip(cvres['mean_fit_time'], cvres['mean_score_time'], cvres['params']):\n",
    "    print((acc*10), loss, params)"
   ]
  },
  {
   "cell_type": "code",
   "execution_count": 60,
   "metadata": {
    "scrolled": true
   },
   "outputs": [
    {
     "data": {
      "text/html": [
       "<div>\n",
       "<style scoped>\n",
       "    .dataframe tbody tr th:only-of-type {\n",
       "        vertical-align: middle;\n",
       "    }\n",
       "\n",
       "    .dataframe tbody tr th {\n",
       "        vertical-align: top;\n",
       "    }\n",
       "\n",
       "    .dataframe thead th {\n",
       "        text-align: right;\n",
       "    }\n",
       "</style>\n",
       "<table border=\"1\" class=\"dataframe\">\n",
       "  <thead>\n",
       "    <tr style=\"text-align: right;\">\n",
       "      <th></th>\n",
       "      <th>mean_fit_time</th>\n",
       "      <th>std_fit_time</th>\n",
       "      <th>mean_score_time</th>\n",
       "      <th>std_score_time</th>\n",
       "      <th>param_max_features</th>\n",
       "      <th>param_n_estimators</th>\n",
       "      <th>param_bootstrap</th>\n",
       "      <th>params</th>\n",
       "      <th>split0_test_Accuracy</th>\n",
       "      <th>split1_test_Accuracy</th>\n",
       "      <th>...</th>\n",
       "      <th>mean_test_loss</th>\n",
       "      <th>std_test_loss</th>\n",
       "      <th>rank_test_loss</th>\n",
       "      <th>split0_train_loss</th>\n",
       "      <th>split1_train_loss</th>\n",
       "      <th>split2_train_loss</th>\n",
       "      <th>split3_train_loss</th>\n",
       "      <th>split4_train_loss</th>\n",
       "      <th>mean_train_loss</th>\n",
       "      <th>std_train_loss</th>\n",
       "    </tr>\n",
       "  </thead>\n",
       "  <tbody>\n",
       "    <tr>\n",
       "      <th>0</th>\n",
       "      <td>0.030214</td>\n",
       "      <td>0.006656</td>\n",
       "      <td>0.014397</td>\n",
       "      <td>0.002083</td>\n",
       "      <td>2</td>\n",
       "      <td>3</td>\n",
       "      <td>NaN</td>\n",
       "      <td>{'max_features': 2, 'n_estimators': 3}</td>\n",
       "      <td>0.686869</td>\n",
       "      <td>0.704082</td>\n",
       "      <td>...</td>\n",
       "      <td>9.211849</td>\n",
       "      <td>1.903652</td>\n",
       "      <td>4</td>\n",
       "      <td>2.290860e+00</td>\n",
       "      <td>1.757719e+00</td>\n",
       "      <td>1.757711e+00</td>\n",
       "      <td>2.197133e+00</td>\n",
       "      <td>2.285024e+00</td>\n",
       "      <td>2.057689e+00</td>\n",
       "      <td>0.247169</td>\n",
       "    </tr>\n",
       "    <tr>\n",
       "      <th>1</th>\n",
       "      <td>0.064796</td>\n",
       "      <td>0.006640</td>\n",
       "      <td>0.015614</td>\n",
       "      <td>0.001358</td>\n",
       "      <td>2</td>\n",
       "      <td>10</td>\n",
       "      <td>NaN</td>\n",
       "      <td>{'max_features': 2, 'n_estimators': 10}</td>\n",
       "      <td>0.757576</td>\n",
       "      <td>0.755102</td>\n",
       "      <td>...</td>\n",
       "      <td>7.807050</td>\n",
       "      <td>1.091708</td>\n",
       "      <td>17</td>\n",
       "      <td>1.145421e+00</td>\n",
       "      <td>1.054621e+00</td>\n",
       "      <td>7.030794e-01</td>\n",
       "      <td>8.788493e-01</td>\n",
       "      <td>7.030794e-01</td>\n",
       "      <td>8.970100e-01</td>\n",
       "      <td>0.180054</td>\n",
       "    </tr>\n",
       "    <tr>\n",
       "      <th>2</th>\n",
       "      <td>0.196397</td>\n",
       "      <td>0.024887</td>\n",
       "      <td>0.027203</td>\n",
       "      <td>0.001471</td>\n",
       "      <td>2</td>\n",
       "      <td>30</td>\n",
       "      <td>NaN</td>\n",
       "      <td>{'max_features': 2, 'n_estimators': 30}</td>\n",
       "      <td>0.757576</td>\n",
       "      <td>0.755102</td>\n",
       "      <td>...</td>\n",
       "      <td>7.877534</td>\n",
       "      <td>1.097348</td>\n",
       "      <td>15</td>\n",
       "      <td>2.643274e-01</td>\n",
       "      <td>1.757719e-01</td>\n",
       "      <td>9.992007e-16</td>\n",
       "      <td>9.992007e-16</td>\n",
       "      <td>9.992007e-16</td>\n",
       "      <td>8.801985e-02</td>\n",
       "      <td>0.111380</td>\n",
       "    </tr>\n",
       "    <tr>\n",
       "      <th>3</th>\n",
       "      <td>0.030809</td>\n",
       "      <td>0.007385</td>\n",
       "      <td>0.013001</td>\n",
       "      <td>0.002971</td>\n",
       "      <td>4</td>\n",
       "      <td>3</td>\n",
       "      <td>NaN</td>\n",
       "      <td>{'max_features': 4, 'n_estimators': 3}</td>\n",
       "      <td>0.646465</td>\n",
       "      <td>0.755102</td>\n",
       "      <td>...</td>\n",
       "      <td>8.927055</td>\n",
       "      <td>1.744579</td>\n",
       "      <td>6</td>\n",
       "      <td>2.026530e+00</td>\n",
       "      <td>1.845602e+00</td>\n",
       "      <td>2.109252e+00</td>\n",
       "      <td>2.109250e+00</td>\n",
       "      <td>2.197135e+00</td>\n",
       "      <td>2.057554e+00</td>\n",
       "      <td>0.118924</td>\n",
       "    </tr>\n",
       "    <tr>\n",
       "      <th>4</th>\n",
       "      <td>0.067002</td>\n",
       "      <td>0.002965</td>\n",
       "      <td>0.016400</td>\n",
       "      <td>0.001499</td>\n",
       "      <td>4</td>\n",
       "      <td>10</td>\n",
       "      <td>NaN</td>\n",
       "      <td>{'max_features': 4, 'n_estimators': 10}</td>\n",
       "      <td>0.737374</td>\n",
       "      <td>0.755102</td>\n",
       "      <td>...</td>\n",
       "      <td>8.228554</td>\n",
       "      <td>0.543474</td>\n",
       "      <td>11</td>\n",
       "      <td>8.810933e-01</td>\n",
       "      <td>8.788493e-01</td>\n",
       "      <td>1.054623e+00</td>\n",
       "      <td>8.788513e-01</td>\n",
       "      <td>8.788513e-01</td>\n",
       "      <td>9.144537e-01</td>\n",
       "      <td>0.070090</td>\n",
       "    </tr>\n",
       "    <tr>\n",
       "      <th>5</th>\n",
       "      <td>0.234806</td>\n",
       "      <td>0.102235</td>\n",
       "      <td>0.031201</td>\n",
       "      <td>0.006244</td>\n",
       "      <td>4</td>\n",
       "      <td>30</td>\n",
       "      <td>NaN</td>\n",
       "      <td>{'max_features': 4, 'n_estimators': 30}</td>\n",
       "      <td>0.747475</td>\n",
       "      <td>0.734694</td>\n",
       "      <td>...</td>\n",
       "      <td>8.088290</td>\n",
       "      <td>0.849390</td>\n",
       "      <td>14</td>\n",
       "      <td>1.762182e-01</td>\n",
       "      <td>1.757719e-01</td>\n",
       "      <td>1.757719e-01</td>\n",
       "      <td>9.992007e-16</td>\n",
       "      <td>9.992007e-16</td>\n",
       "      <td>1.055524e-01</td>\n",
       "      <td>0.086183</td>\n",
       "    </tr>\n",
       "    <tr>\n",
       "      <th>6</th>\n",
       "      <td>0.027420</td>\n",
       "      <td>0.001493</td>\n",
       "      <td>0.012603</td>\n",
       "      <td>0.002417</td>\n",
       "      <td>6</td>\n",
       "      <td>3</td>\n",
       "      <td>NaN</td>\n",
       "      <td>{'max_features': 6, 'n_estimators': 3}</td>\n",
       "      <td>0.707071</td>\n",
       "      <td>0.755102</td>\n",
       "      <td>...</td>\n",
       "      <td>9.213286</td>\n",
       "      <td>0.791658</td>\n",
       "      <td>3</td>\n",
       "      <td>1.850306e+00</td>\n",
       "      <td>2.636578e+00</td>\n",
       "      <td>2.021374e+00</td>\n",
       "      <td>1.757709e+00</td>\n",
       "      <td>2.021361e+00</td>\n",
       "      <td>2.057466e+00</td>\n",
       "      <td>0.306838</td>\n",
       "    </tr>\n",
       "    <tr>\n",
       "      <th>7</th>\n",
       "      <td>0.069805</td>\n",
       "      <td>0.004012</td>\n",
       "      <td>0.016193</td>\n",
       "      <td>0.002403</td>\n",
       "      <td>6</td>\n",
       "      <td>10</td>\n",
       "      <td>NaN</td>\n",
       "      <td>{'max_features': 6, 'n_estimators': 10}</td>\n",
       "      <td>0.727273</td>\n",
       "      <td>0.734694</td>\n",
       "      <td>...</td>\n",
       "      <td>8.227846</td>\n",
       "      <td>0.988042</td>\n",
       "      <td>12</td>\n",
       "      <td>7.048730e-01</td>\n",
       "      <td>8.788493e-01</td>\n",
       "      <td>7.030835e-01</td>\n",
       "      <td>7.030794e-01</td>\n",
       "      <td>1.142506e+00</td>\n",
       "      <td>8.264783e-01</td>\n",
       "      <td>0.171964</td>\n",
       "    </tr>\n",
       "    <tr>\n",
       "      <th>8</th>\n",
       "      <td>0.196208</td>\n",
       "      <td>0.008205</td>\n",
       "      <td>0.029394</td>\n",
       "      <td>0.002575</td>\n",
       "      <td>6</td>\n",
       "      <td>30</td>\n",
       "      <td>NaN</td>\n",
       "      <td>{'max_features': 6, 'n_estimators': 30}</td>\n",
       "      <td>0.767677</td>\n",
       "      <td>0.806122</td>\n",
       "      <td>...</td>\n",
       "      <td>7.314344</td>\n",
       "      <td>0.493941</td>\n",
       "      <td>18</td>\n",
       "      <td>2.643274e-01</td>\n",
       "      <td>8.788696e-02</td>\n",
       "      <td>8.788696e-02</td>\n",
       "      <td>8.788493e-02</td>\n",
       "      <td>9.992007e-16</td>\n",
       "      <td>1.055972e-01</td>\n",
       "      <td>0.086356</td>\n",
       "    </tr>\n",
       "    <tr>\n",
       "      <th>9</th>\n",
       "      <td>0.028597</td>\n",
       "      <td>0.002414</td>\n",
       "      <td>0.011002</td>\n",
       "      <td>0.000632</td>\n",
       "      <td>8</td>\n",
       "      <td>3</td>\n",
       "      <td>NaN</td>\n",
       "      <td>{'max_features': 8, 'n_estimators': 3}</td>\n",
       "      <td>0.696970</td>\n",
       "      <td>0.755102</td>\n",
       "      <td>...</td>\n",
       "      <td>8.648661</td>\n",
       "      <td>1.021484</td>\n",
       "      <td>8</td>\n",
       "      <td>2.114637e+00</td>\n",
       "      <td>1.933483e+00</td>\n",
       "      <td>1.669822e+00</td>\n",
       "      <td>2.460794e+00</td>\n",
       "      <td>2.636570e+00</td>\n",
       "      <td>2.163061e+00</td>\n",
       "      <td>0.349626</td>\n",
       "    </tr>\n",
       "    <tr>\n",
       "      <th>10</th>\n",
       "      <td>0.076997</td>\n",
       "      <td>0.006543</td>\n",
       "      <td>0.015727</td>\n",
       "      <td>0.001025</td>\n",
       "      <td>8</td>\n",
       "      <td>10</td>\n",
       "      <td>NaN</td>\n",
       "      <td>{'max_features': 8, 'n_estimators': 10}</td>\n",
       "      <td>0.767677</td>\n",
       "      <td>0.755102</td>\n",
       "      <td>...</td>\n",
       "      <td>8.089712</td>\n",
       "      <td>0.863918</td>\n",
       "      <td>13</td>\n",
       "      <td>7.929842e-01</td>\n",
       "      <td>7.030794e-01</td>\n",
       "      <td>1.054623e+00</td>\n",
       "      <td>1.142508e+00</td>\n",
       "      <td>1.142504e+00</td>\n",
       "      <td>9.671398e-01</td>\n",
       "      <td>0.183966</td>\n",
       "    </tr>\n",
       "    <tr>\n",
       "      <th>11</th>\n",
       "      <td>0.201892</td>\n",
       "      <td>0.005822</td>\n",
       "      <td>0.031799</td>\n",
       "      <td>0.005303</td>\n",
       "      <td>8</td>\n",
       "      <td>30</td>\n",
       "      <td>NaN</td>\n",
       "      <td>{'max_features': 8, 'n_estimators': 30}</td>\n",
       "      <td>0.747475</td>\n",
       "      <td>0.775510</td>\n",
       "      <td>...</td>\n",
       "      <td>7.876827</td>\n",
       "      <td>0.890748</td>\n",
       "      <td>16</td>\n",
       "      <td>2.643274e-01</td>\n",
       "      <td>1.757719e-01</td>\n",
       "      <td>1.757719e-01</td>\n",
       "      <td>9.992007e-16</td>\n",
       "      <td>9.992007e-16</td>\n",
       "      <td>1.231742e-01</td>\n",
       "      <td>0.105642</td>\n",
       "    </tr>\n",
       "    <tr>\n",
       "      <th>12</th>\n",
       "      <td>0.024005</td>\n",
       "      <td>0.000627</td>\n",
       "      <td>0.011793</td>\n",
       "      <td>0.000741</td>\n",
       "      <td>2</td>\n",
       "      <td>3</td>\n",
       "      <td>False</td>\n",
       "      <td>{'bootstrap': False, 'max_features': 2, 'n_est...</td>\n",
       "      <td>0.727273</td>\n",
       "      <td>0.734694</td>\n",
       "      <td>...</td>\n",
       "      <td>9.637640</td>\n",
       "      <td>0.826213</td>\n",
       "      <td>1</td>\n",
       "      <td>9.992007e-16</td>\n",
       "      <td>9.992007e-16</td>\n",
       "      <td>9.992007e-16</td>\n",
       "      <td>9.992007e-16</td>\n",
       "      <td>9.992007e-16</td>\n",
       "      <td>9.992007e-16</td>\n",
       "      <td>0.000000</td>\n",
       "    </tr>\n",
       "    <tr>\n",
       "      <th>13</th>\n",
       "      <td>0.061607</td>\n",
       "      <td>0.005712</td>\n",
       "      <td>0.016189</td>\n",
       "      <td>0.001166</td>\n",
       "      <td>2</td>\n",
       "      <td>10</td>\n",
       "      <td>False</td>\n",
       "      <td>{'bootstrap': False, 'max_features': 2, 'n_est...</td>\n",
       "      <td>0.747475</td>\n",
       "      <td>0.714286</td>\n",
       "      <td>...</td>\n",
       "      <td>8.511233</td>\n",
       "      <td>1.163033</td>\n",
       "      <td>9</td>\n",
       "      <td>9.992007e-16</td>\n",
       "      <td>9.992007e-16</td>\n",
       "      <td>9.992007e-16</td>\n",
       "      <td>9.992007e-16</td>\n",
       "      <td>9.992007e-16</td>\n",
       "      <td>9.992007e-16</td>\n",
       "      <td>0.000000</td>\n",
       "    </tr>\n",
       "    <tr>\n",
       "      <th>14</th>\n",
       "      <td>0.026987</td>\n",
       "      <td>0.003168</td>\n",
       "      <td>0.011817</td>\n",
       "      <td>0.001468</td>\n",
       "      <td>3</td>\n",
       "      <td>3</td>\n",
       "      <td>False</td>\n",
       "      <td>{'bootstrap': False, 'max_features': 3, 'n_est...</td>\n",
       "      <td>0.727273</td>\n",
       "      <td>0.724490</td>\n",
       "      <td>...</td>\n",
       "      <td>9.426170</td>\n",
       "      <td>0.261384</td>\n",
       "      <td>2</td>\n",
       "      <td>9.992007e-16</td>\n",
       "      <td>9.992007e-16</td>\n",
       "      <td>9.992007e-16</td>\n",
       "      <td>9.992007e-16</td>\n",
       "      <td>9.992007e-16</td>\n",
       "      <td>9.992007e-16</td>\n",
       "      <td>0.000000</td>\n",
       "    </tr>\n",
       "    <tr>\n",
       "      <th>15</th>\n",
       "      <td>0.067796</td>\n",
       "      <td>0.006553</td>\n",
       "      <td>0.015800</td>\n",
       "      <td>0.001164</td>\n",
       "      <td>3</td>\n",
       "      <td>10</td>\n",
       "      <td>False</td>\n",
       "      <td>{'bootstrap': False, 'max_features': 3, 'n_est...</td>\n",
       "      <td>0.777778</td>\n",
       "      <td>0.775510</td>\n",
       "      <td>...</td>\n",
       "      <td>8.372392</td>\n",
       "      <td>0.698505</td>\n",
       "      <td>10</td>\n",
       "      <td>9.992007e-16</td>\n",
       "      <td>9.992007e-16</td>\n",
       "      <td>9.992007e-16</td>\n",
       "      <td>9.992007e-16</td>\n",
       "      <td>9.992007e-16</td>\n",
       "      <td>9.992007e-16</td>\n",
       "      <td>0.000000</td>\n",
       "    </tr>\n",
       "    <tr>\n",
       "      <th>16</th>\n",
       "      <td>0.042795</td>\n",
       "      <td>0.026261</td>\n",
       "      <td>0.012803</td>\n",
       "      <td>0.003123</td>\n",
       "      <td>4</td>\n",
       "      <td>3</td>\n",
       "      <td>False</td>\n",
       "      <td>{'bootstrap': False, 'max_features': 4, 'n_est...</td>\n",
       "      <td>0.747475</td>\n",
       "      <td>0.734694</td>\n",
       "      <td>...</td>\n",
       "      <td>9.004664</td>\n",
       "      <td>1.457887</td>\n",
       "      <td>5</td>\n",
       "      <td>9.992007e-16</td>\n",
       "      <td>9.992007e-16</td>\n",
       "      <td>9.992007e-16</td>\n",
       "      <td>9.992007e-16</td>\n",
       "      <td>9.992007e-16</td>\n",
       "      <td>9.992007e-16</td>\n",
       "      <td>0.000000</td>\n",
       "    </tr>\n",
       "    <tr>\n",
       "      <th>17</th>\n",
       "      <td>0.068795</td>\n",
       "      <td>0.005495</td>\n",
       "      <td>0.015203</td>\n",
       "      <td>0.001726</td>\n",
       "      <td>4</td>\n",
       "      <td>10</td>\n",
       "      <td>False</td>\n",
       "      <td>{'bootstrap': False, 'max_features': 4, 'n_est...</td>\n",
       "      <td>0.757576</td>\n",
       "      <td>0.755102</td>\n",
       "      <td>...</td>\n",
       "      <td>8.723409</td>\n",
       "      <td>0.726325</td>\n",
       "      <td>7</td>\n",
       "      <td>9.992007e-16</td>\n",
       "      <td>9.992007e-16</td>\n",
       "      <td>9.992007e-16</td>\n",
       "      <td>9.992007e-16</td>\n",
       "      <td>9.992007e-16</td>\n",
       "      <td>9.992007e-16</td>\n",
       "      <td>0.000000</td>\n",
       "    </tr>\n",
       "  </tbody>\n",
       "</table>\n",
       "<p>18 rows × 38 columns</p>\n",
       "</div>"
      ],
      "text/plain": [
       "    mean_fit_time  std_fit_time  mean_score_time  std_score_time  \\\n",
       "0        0.030214      0.006656         0.014397        0.002083   \n",
       "1        0.064796      0.006640         0.015614        0.001358   \n",
       "2        0.196397      0.024887         0.027203        0.001471   \n",
       "3        0.030809      0.007385         0.013001        0.002971   \n",
       "4        0.067002      0.002965         0.016400        0.001499   \n",
       "5        0.234806      0.102235         0.031201        0.006244   \n",
       "6        0.027420      0.001493         0.012603        0.002417   \n",
       "7        0.069805      0.004012         0.016193        0.002403   \n",
       "8        0.196208      0.008205         0.029394        0.002575   \n",
       "9        0.028597      0.002414         0.011002        0.000632   \n",
       "10       0.076997      0.006543         0.015727        0.001025   \n",
       "11       0.201892      0.005822         0.031799        0.005303   \n",
       "12       0.024005      0.000627         0.011793        0.000741   \n",
       "13       0.061607      0.005712         0.016189        0.001166   \n",
       "14       0.026987      0.003168         0.011817        0.001468   \n",
       "15       0.067796      0.006553         0.015800        0.001164   \n",
       "16       0.042795      0.026261         0.012803        0.003123   \n",
       "17       0.068795      0.005495         0.015203        0.001726   \n",
       "\n",
       "   param_max_features param_n_estimators param_bootstrap  \\\n",
       "0                   2                  3             NaN   \n",
       "1                   2                 10             NaN   \n",
       "2                   2                 30             NaN   \n",
       "3                   4                  3             NaN   \n",
       "4                   4                 10             NaN   \n",
       "5                   4                 30             NaN   \n",
       "6                   6                  3             NaN   \n",
       "7                   6                 10             NaN   \n",
       "8                   6                 30             NaN   \n",
       "9                   8                  3             NaN   \n",
       "10                  8                 10             NaN   \n",
       "11                  8                 30             NaN   \n",
       "12                  2                  3           False   \n",
       "13                  2                 10           False   \n",
       "14                  3                  3           False   \n",
       "15                  3                 10           False   \n",
       "16                  4                  3           False   \n",
       "17                  4                 10           False   \n",
       "\n",
       "                                               params  split0_test_Accuracy  \\\n",
       "0              {'max_features': 2, 'n_estimators': 3}              0.686869   \n",
       "1             {'max_features': 2, 'n_estimators': 10}              0.757576   \n",
       "2             {'max_features': 2, 'n_estimators': 30}              0.757576   \n",
       "3              {'max_features': 4, 'n_estimators': 3}              0.646465   \n",
       "4             {'max_features': 4, 'n_estimators': 10}              0.737374   \n",
       "5             {'max_features': 4, 'n_estimators': 30}              0.747475   \n",
       "6              {'max_features': 6, 'n_estimators': 3}              0.707071   \n",
       "7             {'max_features': 6, 'n_estimators': 10}              0.727273   \n",
       "8             {'max_features': 6, 'n_estimators': 30}              0.767677   \n",
       "9              {'max_features': 8, 'n_estimators': 3}              0.696970   \n",
       "10            {'max_features': 8, 'n_estimators': 10}              0.767677   \n",
       "11            {'max_features': 8, 'n_estimators': 30}              0.747475   \n",
       "12  {'bootstrap': False, 'max_features': 2, 'n_est...              0.727273   \n",
       "13  {'bootstrap': False, 'max_features': 2, 'n_est...              0.747475   \n",
       "14  {'bootstrap': False, 'max_features': 3, 'n_est...              0.727273   \n",
       "15  {'bootstrap': False, 'max_features': 3, 'n_est...              0.777778   \n",
       "16  {'bootstrap': False, 'max_features': 4, 'n_est...              0.747475   \n",
       "17  {'bootstrap': False, 'max_features': 4, 'n_est...              0.757576   \n",
       "\n",
       "    split1_test_Accuracy  ...  mean_test_loss  std_test_loss  rank_test_loss  \\\n",
       "0               0.704082  ...        9.211849       1.903652               4   \n",
       "1               0.755102  ...        7.807050       1.091708              17   \n",
       "2               0.755102  ...        7.877534       1.097348              15   \n",
       "3               0.755102  ...        8.927055       1.744579               6   \n",
       "4               0.755102  ...        8.228554       0.543474              11   \n",
       "5               0.734694  ...        8.088290       0.849390              14   \n",
       "6               0.755102  ...        9.213286       0.791658               3   \n",
       "7               0.734694  ...        8.227846       0.988042              12   \n",
       "8               0.806122  ...        7.314344       0.493941              18   \n",
       "9               0.755102  ...        8.648661       1.021484               8   \n",
       "10              0.755102  ...        8.089712       0.863918              13   \n",
       "11              0.775510  ...        7.876827       0.890748              16   \n",
       "12              0.734694  ...        9.637640       0.826213               1   \n",
       "13              0.714286  ...        8.511233       1.163033               9   \n",
       "14              0.724490  ...        9.426170       0.261384               2   \n",
       "15              0.775510  ...        8.372392       0.698505              10   \n",
       "16              0.734694  ...        9.004664       1.457887               5   \n",
       "17              0.755102  ...        8.723409       0.726325               7   \n",
       "\n",
       "    split0_train_loss  split1_train_loss  split2_train_loss  \\\n",
       "0        2.290860e+00       1.757719e+00       1.757711e+00   \n",
       "1        1.145421e+00       1.054621e+00       7.030794e-01   \n",
       "2        2.643274e-01       1.757719e-01       9.992007e-16   \n",
       "3        2.026530e+00       1.845602e+00       2.109252e+00   \n",
       "4        8.810933e-01       8.788493e-01       1.054623e+00   \n",
       "5        1.762182e-01       1.757719e-01       1.757719e-01   \n",
       "6        1.850306e+00       2.636578e+00       2.021374e+00   \n",
       "7        7.048730e-01       8.788493e-01       7.030835e-01   \n",
       "8        2.643274e-01       8.788696e-02       8.788696e-02   \n",
       "9        2.114637e+00       1.933483e+00       1.669822e+00   \n",
       "10       7.929842e-01       7.030794e-01       1.054623e+00   \n",
       "11       2.643274e-01       1.757719e-01       1.757719e-01   \n",
       "12       9.992007e-16       9.992007e-16       9.992007e-16   \n",
       "13       9.992007e-16       9.992007e-16       9.992007e-16   \n",
       "14       9.992007e-16       9.992007e-16       9.992007e-16   \n",
       "15       9.992007e-16       9.992007e-16       9.992007e-16   \n",
       "16       9.992007e-16       9.992007e-16       9.992007e-16   \n",
       "17       9.992007e-16       9.992007e-16       9.992007e-16   \n",
       "\n",
       "    split3_train_loss  split4_train_loss  mean_train_loss  std_train_loss  \n",
       "0        2.197133e+00       2.285024e+00     2.057689e+00        0.247169  \n",
       "1        8.788493e-01       7.030794e-01     8.970100e-01        0.180054  \n",
       "2        9.992007e-16       9.992007e-16     8.801985e-02        0.111380  \n",
       "3        2.109250e+00       2.197135e+00     2.057554e+00        0.118924  \n",
       "4        8.788513e-01       8.788513e-01     9.144537e-01        0.070090  \n",
       "5        9.992007e-16       9.992007e-16     1.055524e-01        0.086183  \n",
       "6        1.757709e+00       2.021361e+00     2.057466e+00        0.306838  \n",
       "7        7.030794e-01       1.142506e+00     8.264783e-01        0.171964  \n",
       "8        8.788493e-02       9.992007e-16     1.055972e-01        0.086356  \n",
       "9        2.460794e+00       2.636570e+00     2.163061e+00        0.349626  \n",
       "10       1.142508e+00       1.142504e+00     9.671398e-01        0.183966  \n",
       "11       9.992007e-16       9.992007e-16     1.231742e-01        0.105642  \n",
       "12       9.992007e-16       9.992007e-16     9.992007e-16        0.000000  \n",
       "13       9.992007e-16       9.992007e-16     9.992007e-16        0.000000  \n",
       "14       9.992007e-16       9.992007e-16     9.992007e-16        0.000000  \n",
       "15       9.992007e-16       9.992007e-16     9.992007e-16        0.000000  \n",
       "16       9.992007e-16       9.992007e-16     9.992007e-16        0.000000  \n",
       "17       9.992007e-16       9.992007e-16     9.992007e-16        0.000000  \n",
       "\n",
       "[18 rows x 38 columns]"
      ]
     },
     "execution_count": 60,
     "metadata": {},
     "output_type": "execute_result"
    }
   ],
   "source": [
    "pd.DataFrame(grid_search.cv_results_)"
   ]
  },
  {
   "cell_type": "code",
   "execution_count": null,
   "metadata": {},
   "outputs": [],
   "source": []
  },
  {
   "cell_type": "code",
   "execution_count": 61,
   "metadata": {},
   "outputs": [],
   "source": [
    "from sklearn.metrics import precision_score, recall_score, f1_score, log_loss, accuracy_score\n",
    "from sklearn.linear_model import LogisticRegression\n",
    "from sklearn.neighbors import KNeighborsClassifier\n",
    "from sklearn.svm import SVC\n",
    "from sklearn.tree import DecisionTreeClassifier\n",
    "from sklearn.ensemble import RandomForestClassifier\n",
    "import re\n",
    "\n",
    "class TrainRunModel:\n",
    "    \n",
    "    def __init__(self, X_train, y_train, X_test, y_test):\n",
    "        self.X_train = X_train\n",
    "        self.y_train = y_train\n",
    "        self.X_test = X_test\n",
    "        self.y_test = y_test\n",
    "        \n",
    "        self.model_accuracy = {}\n",
    "        self.predictions = {}\n",
    "        self.acc = None\n",
    "        \n",
    "        self.models = {\n",
    "                    'Logistic Regression': LogisticRegression(random_state=42),\n",
    "                    'KNeighbors Classifier': KNeighborsClassifier(),\n",
    "                    'SVC': SVC(kernel=\"linear\", random_state=42),\n",
    "                    'Decision Tree Classifier': DecisionTreeClassifier(max_depth=1, random_state=42),\n",
    "                    'Random Forest Classifier': RandomForestClassifier(max_features=6, n_estimators=30, max_leaf_nodes=16, n_jobs=-1, random_state=42)\n",
    "                    }\n",
    "        \n",
    "    \n",
    "    def loss(self,y_true, y_pred, retu=False):\n",
    "        \"\"\"This function calculates the metrics of the model\"\"\"\n",
    "        pre = precision_score(y_true, y_pred)\n",
    "        rec = recall_score(y_true, y_pred)\n",
    "        f1 = f1_score(y_true, y_pred)\n",
    "        loss = log_loss(y_true, y_pred)\n",
    "        acc = accuracy_score(y_true, y_pred)\n",
    "        \n",
    "        self.acc = acc\n",
    "        \n",
    "        if retu:\n",
    "            \n",
    "            return pre, rec, f1, loss, acc, model\n",
    "\n",
    "        else:\n",
    "            print('  precision: %.3f\\n  recall: %.3f\\n  f1-score: %.3f\\n  loss: %.3f\\n  accuracy: %.3f' % (pre, rec, f1, loss, acc))\n",
    "\n",
    "    \n",
    "\n",
    "    def train_eval_train(self, search=None):\n",
    "        \"\"\"This function evaluate our models in the same data that \n",
    "        we train it on .\n",
    "        The \"search params helps to train only the model you want.\"\n",
    "        \"\"\"\n",
    "\n",
    "\n",
    "        X = self.X_train\n",
    "        y = self.y_train\n",
    "        X_tes = self.X_test\n",
    "        y_tes = self.y_test\n",
    "        \n",
    "        if not search:\n",
    "            for name, model in self.models.items():\n",
    "                print(name,':')\n",
    "                model.fit(X, y)\n",
    "                self.predictions[name] = model.predict(X_tes)\n",
    "                self.loss(y_tes, model.predict(X_tes))\n",
    "                self.model_accuracy[name] = self.acc\n",
    "                print('-'*40)\n",
    "\n",
    "        else:\n",
    "            search = search.lower()[:5]\n",
    "            for name, model in self.models.items():\n",
    "                print(name,':')\n",
    "                model.fit(X, y)\n",
    "                print()\n",
    "                if re.search(search, name.lower()):\n",
    "                    self.predictions[name] = model.predict(X_tes)\n",
    "                    self.loss(y_tes, model.predict(X_tes))\n",
    "                    self.model_accuracy[name] = self.acc\n",
    "                    print('-'*40)\n",
    "                    \n",
    "        \n",
    "    def display_accuracy(self):\n",
    "        return self.model_accuracy\n",
    "    \n",
    "    \n",
    "    def display_predictions(self):\n",
    "        return self.predictions\n",
    "    \n",
    "\n",
    "    def display_predicted_result(self):\n",
    "        sns.set(style=\"darkgrid\")\n",
    "        plt.figure(figsize=(12, 6))\n",
    "        \n",
    "        print (\"FOLLOWING IS THE COUNTPLOT DISPLAYING THE PREDICTIONS - \")\n",
    "        print(\"-\"*60)\n",
    "        \n",
    "        for _,i in self.predictions.items():\n",
    "            plt.figure()\n",
    "            ax = sns.countplot(x=i)\n",
    "            ax.set_title(_)\n",
    "            ax.set_xticklabels([\"Loan Approved\", \"Loan Not Approved\",])\n",
    "            "
   ]
  },
  {
   "cell_type": "code",
   "execution_count": 62,
   "metadata": {},
   "outputs": [],
   "source": [
    "model_class = TrainRunModel(X_train, y_train, X_test, y_test)"
   ]
  },
  {
   "cell_type": "code",
   "execution_count": 63,
   "metadata": {},
   "outputs": [
    {
     "name": "stdout",
     "output_type": "stream",
     "text": [
      "Logistic Regression :\n",
      "\n",
      "KNeighbors Classifier :\n",
      "\n",
      "SVC :\n",
      "\n",
      "Decision Tree Classifier :\n",
      "\n",
      "Random Forest Classifier :\n",
      "\n",
      "  precision: 0.783\n",
      "  recall: 0.474\n",
      "  f1-score: 0.590\n",
      "  loss: 7.020\n",
      "  accuracy: 0.797\n",
      "----------------------------------------\n"
     ]
    }
   ],
   "source": [
    "model_class.train_eval_train(\"rand\")"
   ]
  },
  {
   "cell_type": "code",
   "execution_count": 64,
   "metadata": {
    "scrolled": true
   },
   "outputs": [
    {
     "name": "stdout",
     "output_type": "stream",
     "text": [
      "FOLLOWING IS THE COUNTPLOT DISPLAYING THE PREDICTIONS - \n",
      "------------------------------------------------------------\n"
     ]
    },
    {
     "data": {
      "text/plain": [
       "<Figure size 864x432 with 0 Axes>"
      ]
     },
     "metadata": {},
     "output_type": "display_data"
    },
    {
     "data": {
      "image/png": "[encoded data removed]",
      "text/plain": [
       "<Figure size 432x288 with 1 Axes>"
      ]
     },
     "metadata": {},
     "output_type": "display_data"
    }
   ],
   "source": [
    "model_class.display_predicted_result()"
   ]
  },
  {
   "cell_type": "markdown",
   "metadata": {},
   "source": [
    "GridCV gave us a good  hyperparameter combination but than that of the first combinations we used."
   ]
  },
  {
   "cell_type": "code",
   "execution_count": 65,
   "metadata": {},
   "outputs": [
    {
     "name": "stdout",
     "output_type": "stream",
     "text": [
      "Fitting 5 folds for each of 40 candidates, totalling 200 fits\n"
     ]
    },
    {
     "name": "stderr",
     "output_type": "stream",
     "text": [
      "[Parallel(n_jobs=-1)]: Using backend LokyBackend with 2 concurrent workers.\n",
      "[Parallel(n_jobs=-1)]: Done  64 tasks      | elapsed:   11.5s\n",
      "[Parallel(n_jobs=-1)]: Done 200 out of 200 | elapsed:   15.1s finished\n"
     ]
    },
    {
     "data": {
      "text/plain": [
       "GridSearchCV(cv=5, error_score=nan,\n",
       "             estimator=LogisticRegression(C=1.0, class_weight=None, dual=False,\n",
       "                                          fit_intercept=True,\n",
       "                                          intercept_scaling=1, l1_ratio=None,\n",
       "                                          max_iter=100, multi_class='auto',\n",
       "                                          n_jobs=None, penalty='l2',\n",
       "                                          random_state=42, solver='lbfgs',\n",
       "                                          tol=0.0001, verbose=0,\n",
       "                                          warm_start=False),\n",
       "             iid='deprecated', n_jobs=-1,\n",
       "             param_grid=[{'C': array([1.00000000e+00, 1.6237...\n",
       "       4.83293024e+01, 7.84759970e+01, 1.27427499e+02, 2.06913808e+02,\n",
       "       3.35981829e+02, 5.45559478e+02, 8.85866790e+02, 1.43844989e+03,\n",
       "       2.33572147e+03, 3.79269019e+03, 6.15848211e+03, 1.00000000e+04]),\n",
       "                          'penalty': ['l1', 'l2']}],\n",
       "             pre_dispatch='2*n_jobs', refit='loss', return_train_score=False,\n",
       "             scoring={'Accuracy': make_scorer(accuracy_score),\n",
       "                      'loss': make_scorer(log_loss)},\n",
       "             verbose=True)"
      ]
     },
     "execution_count": 65,
     "metadata": {},
     "output_type": "execute_result"
    }
   ],
   "source": [
    "from sklearn.model_selection import GridSearchCV\n",
    "from sklearn.metrics import precision_score, recall_score, f1_score, log_loss, accuracy_score\n",
    "from sklearn.metrics import make_scorer\n",
    "import numpy as np\n",
    "\n",
    "# a search hyperparameter search space\n",
    "param_grid = [\n",
    "    # am trying 12 (3x4) combinations of hyperparater\n",
    "    {'C': np.logspace(0, 4 , 20), 'penalty': ['l1', 'l2']}    \n",
    "]\n",
    "\n",
    "# am using this model because its the best model of our dataset\n",
    "log_reg = LogisticRegression(random_state=42)\n",
    "\n",
    "# a multi-metric evaluation \n",
    "scoring = {'Accuracy': make_scorer(accuracy_score), 'loss': make_scorer(log_loss)}\n",
    "\n",
    "# train across 5 folds, that's (12+6)*5=90 rounds of training\n",
    "grid_search = GridSearchCV(log_reg, scoring=scoring, refit='loss', param_grid=param_grid, cv=5, verbose=True, n_jobs=-1)\n",
    "\n",
    "grid_search.fit(X_train, y_train)"
   ]
  },
  {
   "cell_type": "code",
   "execution_count": 66,
   "metadata": {},
   "outputs": [
    {
     "data": {
      "text/plain": [
       "{'C': 6.951927961775605, 'penalty': 'l2'}"
      ]
     },
     "execution_count": 66,
     "metadata": {},
     "output_type": "execute_result"
    }
   ],
   "source": [
    "grid_search.best_params_"
   ]
  },
  {
   "cell_type": "code",
   "execution_count": 67,
   "metadata": {},
   "outputs": [],
   "source": [
    "log_gridsearch = grid_search.estimator"
   ]
  },
  {
   "cell_type": "code",
   "execution_count": 68,
   "metadata": {},
   "outputs": [],
   "source": [
    "from sklearn.metrics import precision_score, recall_score, f1_score, log_loss, accuracy_score\n",
    "from sklearn.linear_model import LogisticRegression\n",
    "from sklearn.neighbors import KNeighborsClassifier\n",
    "from sklearn.svm import SVC\n",
    "from sklearn.tree import DecisionTreeClassifier\n",
    "from sklearn.ensemble import RandomForestClassifier\n",
    "import re\n",
    "\n",
    "class TrainRunModel:\n",
    "    \n",
    "    def __init__(self, X_train, y_train, X_test, y_test):\n",
    "        self.X_train = X_train\n",
    "        self.y_train = y_train\n",
    "        self.X_test = X_test\n",
    "        self.y_test = y_test\n",
    "        \n",
    "        self.model_accuracy = {}\n",
    "        self.predictions = {}\n",
    "        self.acc = None\n",
    "        \n",
    "        self.models = {\n",
    "                    'Logistic Regression': LogisticRegression(C=6.951927961, penalty='l2', random_state=42),\n",
    "                    'KNeighbors Classifier': KNeighborsClassifier(),\n",
    "                    'SVC': SVC(kernel=\"linear\", random_state=42),\n",
    "                    'Decision Tree Classifier': DecisionTreeClassifier(max_depth=1, random_state=42),\n",
    "                    'Random Forest Classifier': RandomForestClassifier(max_features=6, n_estimators=30, max_leaf_nodes=16, n_jobs=-1, random_state=42)\n",
    "           }\n",
    "        \n",
    "    \n",
    "    def loss(self,y_true, y_pred, retu=False):\n",
    "        \"\"\"This function calculates the metrics of the model\"\"\"\n",
    "        pre = precision_score(y_true, y_pred)\n",
    "        rec = recall_score(y_true, y_pred)\n",
    "        f1 = f1_score(y_true, y_pred)\n",
    "        loss = log_loss(y_true, y_pred)\n",
    "        acc = accuracy_score(y_true, y_pred)\n",
    "        \n",
    "        self.acc = acc\n",
    "        \n",
    "        if retu:\n",
    "            \n",
    "            return pre, rec, f1, loss, acc, model\n",
    "\n",
    "        else:\n",
    "            print('  precision: %.3f\\n  recall: %.3f\\n  f1-score: %.3f\\n  loss: %.3f\\n  accuracy: %.3f' % (pre, rec, f1, loss, acc))\n",
    "\n",
    "    \n",
    "\n",
    "    def train_eval_train(self, search=None):\n",
    "        \"\"\"This function evaluate our models in the same data that \n",
    "        we train it on .\n",
    "        The \"search params helps to train only the model you want.\"\n",
    "        \"\"\"\n",
    "\n",
    "\n",
    "        X = self.X_train\n",
    "        y = self.y_train\n",
    "        X_tes = self.X_test\n",
    "        y_tes = self.y_test\n",
    "        \n",
    "        if not search:\n",
    "            for name, model in self.models.items():\n",
    "                print(name,':')\n",
    "                model.fit(X, y)\n",
    "                self.predictions[name] = model.predict(X_tes)\n",
    "                self.loss(y_tes, model.predict(X_tes))\n",
    "                self.model_accuracy[name] = self.acc\n",
    "                print('-'*40)\n",
    "\n",
    "        else:\n",
    "            search = search.lower()[:5]\n",
    "            for name, model in self.models.items():\n",
    "                print(name,':')\n",
    "                model.fit(X, y)\n",
    "                print()\n",
    "                if re.search(search, name.lower()):\n",
    "                    self.predictions[name] = model.predict(X_tes)\n",
    "                    self.loss(y_tes, model.predict(X_tes))\n",
    "                    self.model_accuracy[name] = self.acc\n",
    "                    print('-'*40)\n",
    "                    \n",
    "        \n",
    "    def display_accuracy(self):\n",
    "        return self.model_accuracy\n",
    "    \n",
    "    \n",
    "    def display_predictions(self):\n",
    "        return self.predictions\n",
    "    \n",
    "\n",
    "    def display_predicted_result(self):\n",
    "        sns.set(style=\"darkgrid\")\n",
    "        plt.figure(figsize=(12, 6))\n",
    "        \n",
    "        print (\"FOLLOWING IS THE COUNTPLOT DISPLAYING THE PREDICTIONS - \")\n",
    "        print(\"-\"*60)\n",
    "        \n",
    "        for _,i in self.predictions.items():\n",
    "            plt.figure()\n",
    "            ax = sns.countplot(x=i)\n",
    "            ax.set_title(_)\n",
    "            ax.set_xticklabels([\"Loan Approved\", \"Loan Not Approved\",])\n",
    "            "
   ]
  },
  {
   "cell_type": "code",
   "execution_count": 69,
   "metadata": {},
   "outputs": [],
   "source": [
    "model_class = TrainRunModel(X_train, y_train, X_test, y_test)"
   ]
  },
  {
   "cell_type": "code",
   "execution_count": 70,
   "metadata": {},
   "outputs": [
    {
     "name": "stdout",
     "output_type": "stream",
     "text": [
      "Logistic Regression :\n",
      "\n",
      "  precision: 0.818\n",
      "  recall: 0.474\n",
      "  f1-score: 0.600\n",
      "  loss: 6.739\n",
      "  accuracy: 0.805\n",
      "----------------------------------------\n",
      "KNeighbors Classifier :\n",
      "\n",
      "SVC :\n",
      "\n",
      "Decision Tree Classifier :\n",
      "\n",
      "Random Forest Classifier :\n",
      "\n"
     ]
    }
   ],
   "source": [
    "model_class.train_eval_train(\"log\")"
   ]
  },
  {
   "cell_type": "code",
   "execution_count": 71,
   "metadata": {
    "scrolled": true
   },
   "outputs": [
    {
     "name": "stdout",
     "output_type": "stream",
     "text": [
      "FOLLOWING IS THE COUNTPLOT DISPLAYING THE PREDICTIONS - \n",
      "------------------------------------------------------------\n"
     ]
    },
    {
     "data": {
      "text/plain": [
       "<Figure size 864x432 with 0 Axes>"
      ]
     },
     "metadata": {},
     "output_type": "display_data"
    },
    {
     "data": {
      "image/png": "[encoded data removed]",
      "text/plain": [
       "<Figure size 432x288 with 1 Axes>"
      ]
     },
     "metadata": {},
     "output_type": "display_data"
    }
   ],
   "source": [
    "model_class.display_predicted_result()"
   ]
  },
  {
   "cell_type": "code",
   "execution_count": null,
   "metadata": {},
   "outputs": [],
   "source": []
  },
  {
   "cell_type": "markdown",
   "metadata": {},
   "source": [
    "Using a Voting classifier to show which model classifies best.\n"
   ]
  },
  {
   "cell_type": "code",
   "execution_count": 72,
   "metadata": {},
   "outputs": [],
   "source": [
    "clf_dict =  {  'Logistic Regression': LogisticRegression(random_state=42),\n",
    "                    'KNeighbors Classifier': KNeighborsClassifier(),\n",
    "                    'SVC': SVC(kernel=\"linear\", random_state=42),\n",
    "                    'Decision Tree Classifier': DecisionTreeClassifier(max_depth=1, random_state=42),\n",
    "                    'Random Forest Classifier': RandomForestClassifier(max_features=6, n_estimators=30, max_leaf_nodes=16, n_jobs=-1, random_state=42)\n",
    "            }"
   ]
  },
  {
   "cell_type": "code",
   "execution_count": 73,
   "metadata": {},
   "outputs": [],
   "source": [
    "from sklearn.ensemble import VotingClassifier\n",
    "\n",
    "for _, i in clf_dict.items():\n",
    "    voting_clf = VotingClassifier(\n",
    "                estimators=[(_, i)], voting='hard')\n",
    "    voting_clf.fit(X_train, y_train)"
   ]
  },
  {
   "cell_type": "code",
   "execution_count": 74,
   "metadata": {},
   "outputs": [
    {
     "name": "stdout",
     "output_type": "stream",
     "text": [
      "LogisticRegression 0.8048780487804879\n",
      "KNeighborsClassifier 0.7479674796747967\n",
      "SVC 0.8048780487804879\n",
      "DecisionTreeClassifier 0.8048780487804879\n",
      "RandomForestClassifier 0.7967479674796748\n"
     ]
    }
   ],
   "source": [
    "from sklearn.metrics import accuracy_score\n",
    "\n",
    "for _, clf in clf_dict.items():\n",
    "    clf.fit(X_train, y_train)\n",
    "    y_pred = clf.predict(X_test)\n",
    "    print(clf.__class__.__name__, accuracy_score(y_test, y_pred))"
   ]
  },
  {
   "cell_type": "markdown",
   "metadata": {},
   "source": [
    "We can see it's just like our display_accuracy() in the TrainRunModel class"
   ]
  },
  {
   "cell_type": "markdown",
   "metadata": {},
   "source": [
    "But we can get more accuracy and less loss if we do more feature engineering on the data."
   ]
  },
  {
   "cell_type": "code",
   "execution_count": null,
   "metadata": {},
   "outputs": [],
   "source": []
  }
 ],
 "metadata": {
  "kernelspec": {
   "display_name": "Python 3 (ipykernel)",
   "language": "python",
   "name": "python3"
  },
  "language_info": {
   "codemirror_mode": {
    "name": "ipython",
    "version": 3
   },
   "file_extension": ".py",
   "mimetype": "text/x-python",
   "name": "python",
   "nbconvert_exporter": "python",
   "pygments_lexer": "ipython3",
   "version": "3.9.7"
  }
 },
 "nbformat": 4,
 "nbformat_minor": 4
}
